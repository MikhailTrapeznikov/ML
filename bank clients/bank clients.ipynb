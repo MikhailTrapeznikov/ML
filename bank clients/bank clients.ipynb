{
 "cells": [
  {
   "cell_type": "markdown",
   "id": "54b8867a",
   "metadata": {},
   "source": [
    "# Отток клиентов"
   ]
  },
  {
   "cell_type": "markdown",
   "id": "80be4b45",
   "metadata": {},
   "source": [
    "Из «Бета-Банка» стали уходить клиенты. Каждый месяц. Немного, но заметно. Банковские маркетологи посчитали: сохранять текущих клиентов дешевле, чем привлекать новых.\n",
    "\n",
    "Нужно спрогнозировать, уйдёт клиент из банка в ближайшее время или нет. Вам предоставлены исторические данные о поведении клиентов и расторжении договоров с банком. \n",
    "\n",
    "Источник данных: [https://www.kaggle.com/barelydedicated/bank-customer-churn-modeling](https://www.kaggle.com/barelydedicated/bank-customer-churn-modeling)\n",
    "<br><br>\n",
    "\n",
    "\n",
    "<div> <b>Цель исследования:</b><br>\n",
    "    1. Проанализировать поведение клиентов<br>\n",
    "    2. Спрогнозировать, уйдет ли клиент из банка в ближайшее время<br>\n",
    "    3. Построить модель с максимально большим значением <b>F1-меры</b>\n",
    "    <br>\n",
    "    <b>Ход исследования:</b><br>\n",
    "    1. Выгрузить таблицу<br>\n",
    "    2. Изучить признаки<br>\n",
    "    3. Заменить категориальные признаки<br>\n",
    "    4. Разделить исходные данные на обучающую, валидационную и тестовую выборки<br>\n",
    "    5. Построить модели без учета дисбаланса<br>\n",
    "    6. Построить модели используя upsampling и downsampling<br>\n",
    "    7. Проверить качество модели на тестовой выборке<br>\n",
    "</div>"
   ]
  },
  {
   "cell_type": "markdown",
   "id": "b74bd3c9",
   "metadata": {},
   "source": [
    "## Подготовка данных\n",
    "Подключим все необходимые модули"
   ]
  },
  {
   "cell_type": "code",
   "execution_count": 1,
   "id": "da7ec6a9",
   "metadata": {
    "scrolled": true
   },
   "outputs": [
    {
     "name": "stdout",
     "output_type": "stream",
     "text": [
      "Requirement already satisfied: imblearn in b:\\programs\\anaconda\\anaconda\\lib\\site-packages (0.0)\n",
      "Requirement already satisfied: imbalanced-learn in b:\\programs\\anaconda\\anaconda\\lib\\site-packages (from imblearn) (0.10.1)\n",
      "Requirement already satisfied: scikit-learn>=1.0.2 in b:\\programs\\anaconda\\anaconda\\lib\\site-packages (from imbalanced-learn->imblearn) (1.0.2)\n",
      "Requirement already satisfied: threadpoolctl>=2.0.0 in b:\\programs\\anaconda\\anaconda\\lib\\site-packages (from imbalanced-learn->imblearn) (2.2.0)\n",
      "Requirement already satisfied: joblib>=1.1.1 in b:\\programs\\anaconda\\anaconda\\lib\\site-packages (from imbalanced-learn->imblearn) (1.2.0)\n",
      "Requirement already satisfied: scipy>=1.3.2 in b:\\programs\\anaconda\\anaconda\\lib\\site-packages (from imbalanced-learn->imblearn) (1.7.3)\n",
      "Requirement already satisfied: numpy>=1.17.3 in b:\\programs\\anaconda\\anaconda\\lib\\site-packages (from imbalanced-learn->imblearn) (1.21.5)\n"
     ]
    }
   ],
   "source": [
    "! pip install imblearn"
   ]
  },
  {
   "cell_type": "code",
   "execution_count": 2,
   "id": "80068d68",
   "metadata": {},
   "outputs": [],
   "source": [
    "import pandas as pd\n",
    "import numpy as np\n",
    "import matplotlib.pyplot as plt\n",
    "\n",
    "from sklearn.model_selection import train_test_split\n",
    "from sklearn.linear_model import LogisticRegression\n",
    "from sklearn.ensemble import RandomForestClassifier\n",
    "from sklearn.model_selection import GridSearchCV, StratifiedKFold\n",
    "from sklearn.metrics import f1_score, roc_auc_score\n",
    "from sklearn.utils import shuffle\n",
    "from sklearn.metrics import pairwise\n",
    "from imblearn.over_sampling import SMOTE\n",
    "from sklearn.metrics import roc_curve \n",
    "from imblearn.under_sampling import NearMiss\n",
    "from tqdm import tqdm"
   ]
  },
  {
   "cell_type": "markdown",
   "id": "6481b4df",
   "metadata": {},
   "source": [
    "Откроем таблицу"
   ]
  },
  {
   "cell_type": "code",
   "execution_count": 3,
   "id": "86d23754",
   "metadata": {
    "scrolled": false
   },
   "outputs": [
    {
     "data": {
      "text/html": [
       "<div>\n",
       "<style scoped>\n",
       "    .dataframe tbody tr th:only-of-type {\n",
       "        vertical-align: middle;\n",
       "    }\n",
       "\n",
       "    .dataframe tbody tr th {\n",
       "        vertical-align: top;\n",
       "    }\n",
       "\n",
       "    .dataframe thead th {\n",
       "        text-align: right;\n",
       "    }\n",
       "</style>\n",
       "<table border=\"1\" class=\"dataframe\">\n",
       "  <thead>\n",
       "    <tr style=\"text-align: right;\">\n",
       "      <th></th>\n",
       "      <th>RowNumber</th>\n",
       "      <th>CustomerId</th>\n",
       "      <th>Surname</th>\n",
       "      <th>CreditScore</th>\n",
       "      <th>Geography</th>\n",
       "      <th>Gender</th>\n",
       "      <th>Age</th>\n",
       "      <th>Tenure</th>\n",
       "      <th>Balance</th>\n",
       "      <th>NumOfProducts</th>\n",
       "      <th>HasCrCard</th>\n",
       "      <th>IsActiveMember</th>\n",
       "      <th>EstimatedSalary</th>\n",
       "      <th>Exited</th>\n",
       "    </tr>\n",
       "  </thead>\n",
       "  <tbody>\n",
       "    <tr>\n",
       "      <th>0</th>\n",
       "      <td>1</td>\n",
       "      <td>15634602</td>\n",
       "      <td>Hargrave</td>\n",
       "      <td>619</td>\n",
       "      <td>France</td>\n",
       "      <td>Female</td>\n",
       "      <td>42</td>\n",
       "      <td>2.0</td>\n",
       "      <td>0.00</td>\n",
       "      <td>1</td>\n",
       "      <td>1</td>\n",
       "      <td>1</td>\n",
       "      <td>101348.88</td>\n",
       "      <td>1</td>\n",
       "    </tr>\n",
       "    <tr>\n",
       "      <th>1</th>\n",
       "      <td>2</td>\n",
       "      <td>15647311</td>\n",
       "      <td>Hill</td>\n",
       "      <td>608</td>\n",
       "      <td>Spain</td>\n",
       "      <td>Female</td>\n",
       "      <td>41</td>\n",
       "      <td>1.0</td>\n",
       "      <td>83807.86</td>\n",
       "      <td>1</td>\n",
       "      <td>0</td>\n",
       "      <td>1</td>\n",
       "      <td>112542.58</td>\n",
       "      <td>0</td>\n",
       "    </tr>\n",
       "    <tr>\n",
       "      <th>2</th>\n",
       "      <td>3</td>\n",
       "      <td>15619304</td>\n",
       "      <td>Onio</td>\n",
       "      <td>502</td>\n",
       "      <td>France</td>\n",
       "      <td>Female</td>\n",
       "      <td>42</td>\n",
       "      <td>8.0</td>\n",
       "      <td>159660.80</td>\n",
       "      <td>3</td>\n",
       "      <td>1</td>\n",
       "      <td>0</td>\n",
       "      <td>113931.57</td>\n",
       "      <td>1</td>\n",
       "    </tr>\n",
       "    <tr>\n",
       "      <th>3</th>\n",
       "      <td>4</td>\n",
       "      <td>15701354</td>\n",
       "      <td>Boni</td>\n",
       "      <td>699</td>\n",
       "      <td>France</td>\n",
       "      <td>Female</td>\n",
       "      <td>39</td>\n",
       "      <td>1.0</td>\n",
       "      <td>0.00</td>\n",
       "      <td>2</td>\n",
       "      <td>0</td>\n",
       "      <td>0</td>\n",
       "      <td>93826.63</td>\n",
       "      <td>0</td>\n",
       "    </tr>\n",
       "    <tr>\n",
       "      <th>4</th>\n",
       "      <td>5</td>\n",
       "      <td>15737888</td>\n",
       "      <td>Mitchell</td>\n",
       "      <td>850</td>\n",
       "      <td>Spain</td>\n",
       "      <td>Female</td>\n",
       "      <td>43</td>\n",
       "      <td>2.0</td>\n",
       "      <td>125510.82</td>\n",
       "      <td>1</td>\n",
       "      <td>1</td>\n",
       "      <td>1</td>\n",
       "      <td>79084.10</td>\n",
       "      <td>0</td>\n",
       "    </tr>\n",
       "  </tbody>\n",
       "</table>\n",
       "</div>"
      ],
      "text/plain": [
       "   RowNumber  CustomerId   Surname  CreditScore Geography  Gender  Age  \\\n",
       "0          1    15634602  Hargrave          619    France  Female   42   \n",
       "1          2    15647311      Hill          608     Spain  Female   41   \n",
       "2          3    15619304      Onio          502    France  Female   42   \n",
       "3          4    15701354      Boni          699    France  Female   39   \n",
       "4          5    15737888  Mitchell          850     Spain  Female   43   \n",
       "\n",
       "   Tenure    Balance  NumOfProducts  HasCrCard  IsActiveMember  \\\n",
       "0     2.0       0.00              1          1               1   \n",
       "1     1.0   83807.86              1          0               1   \n",
       "2     8.0  159660.80              3          1               0   \n",
       "3     1.0       0.00              2          0               0   \n",
       "4     2.0  125510.82              1          1               1   \n",
       "\n",
       "   EstimatedSalary  Exited  \n",
       "0        101348.88       1  \n",
       "1        112542.58       0  \n",
       "2        113931.57       1  \n",
       "3         93826.63       0  \n",
       "4         79084.10       0  "
      ]
     },
     "metadata": {},
     "output_type": "display_data"
    }
   ],
   "source": [
    "data = pd.read_csv('Churn.csv')\n",
    "display(data.head())\n"
   ]
  },
  {
   "cell_type": "markdown",
   "id": "78efe10e",
   "metadata": {},
   "source": [
    "Удалим несущественные колонки. Считаю что фамилия не влияет на возможность ухода."
   ]
  },
  {
   "cell_type": "code",
   "execution_count": 4,
   "id": "f9d01ff8",
   "metadata": {
    "scrolled": true
   },
   "outputs": [
    {
     "data": {
      "text/html": [
       "<div>\n",
       "<style scoped>\n",
       "    .dataframe tbody tr th:only-of-type {\n",
       "        vertical-align: middle;\n",
       "    }\n",
       "\n",
       "    .dataframe tbody tr th {\n",
       "        vertical-align: top;\n",
       "    }\n",
       "\n",
       "    .dataframe thead th {\n",
       "        text-align: right;\n",
       "    }\n",
       "</style>\n",
       "<table border=\"1\" class=\"dataframe\">\n",
       "  <thead>\n",
       "    <tr style=\"text-align: right;\">\n",
       "      <th></th>\n",
       "      <th>CreditScore</th>\n",
       "      <th>Geography</th>\n",
       "      <th>Gender</th>\n",
       "      <th>Age</th>\n",
       "      <th>Tenure</th>\n",
       "      <th>Balance</th>\n",
       "      <th>NumOfProducts</th>\n",
       "      <th>HasCrCard</th>\n",
       "      <th>IsActiveMember</th>\n",
       "      <th>EstimatedSalary</th>\n",
       "      <th>Exited</th>\n",
       "    </tr>\n",
       "  </thead>\n",
       "  <tbody>\n",
       "    <tr>\n",
       "      <th>0</th>\n",
       "      <td>619</td>\n",
       "      <td>France</td>\n",
       "      <td>Female</td>\n",
       "      <td>42</td>\n",
       "      <td>2.0</td>\n",
       "      <td>0.00</td>\n",
       "      <td>1</td>\n",
       "      <td>1</td>\n",
       "      <td>1</td>\n",
       "      <td>101348.88</td>\n",
       "      <td>1</td>\n",
       "    </tr>\n",
       "    <tr>\n",
       "      <th>1</th>\n",
       "      <td>608</td>\n",
       "      <td>Spain</td>\n",
       "      <td>Female</td>\n",
       "      <td>41</td>\n",
       "      <td>1.0</td>\n",
       "      <td>83807.86</td>\n",
       "      <td>1</td>\n",
       "      <td>0</td>\n",
       "      <td>1</td>\n",
       "      <td>112542.58</td>\n",
       "      <td>0</td>\n",
       "    </tr>\n",
       "    <tr>\n",
       "      <th>2</th>\n",
       "      <td>502</td>\n",
       "      <td>France</td>\n",
       "      <td>Female</td>\n",
       "      <td>42</td>\n",
       "      <td>8.0</td>\n",
       "      <td>159660.80</td>\n",
       "      <td>3</td>\n",
       "      <td>1</td>\n",
       "      <td>0</td>\n",
       "      <td>113931.57</td>\n",
       "      <td>1</td>\n",
       "    </tr>\n",
       "    <tr>\n",
       "      <th>3</th>\n",
       "      <td>699</td>\n",
       "      <td>France</td>\n",
       "      <td>Female</td>\n",
       "      <td>39</td>\n",
       "      <td>1.0</td>\n",
       "      <td>0.00</td>\n",
       "      <td>2</td>\n",
       "      <td>0</td>\n",
       "      <td>0</td>\n",
       "      <td>93826.63</td>\n",
       "      <td>0</td>\n",
       "    </tr>\n",
       "    <tr>\n",
       "      <th>4</th>\n",
       "      <td>850</td>\n",
       "      <td>Spain</td>\n",
       "      <td>Female</td>\n",
       "      <td>43</td>\n",
       "      <td>2.0</td>\n",
       "      <td>125510.82</td>\n",
       "      <td>1</td>\n",
       "      <td>1</td>\n",
       "      <td>1</td>\n",
       "      <td>79084.10</td>\n",
       "      <td>0</td>\n",
       "    </tr>\n",
       "  </tbody>\n",
       "</table>\n",
       "</div>"
      ],
      "text/plain": [
       "   CreditScore Geography  Gender  Age  Tenure    Balance  NumOfProducts  \\\n",
       "0          619    France  Female   42     2.0       0.00              1   \n",
       "1          608     Spain  Female   41     1.0   83807.86              1   \n",
       "2          502    France  Female   42     8.0  159660.80              3   \n",
       "3          699    France  Female   39     1.0       0.00              2   \n",
       "4          850     Spain  Female   43     2.0  125510.82              1   \n",
       "\n",
       "   HasCrCard  IsActiveMember  EstimatedSalary  Exited  \n",
       "0          1               1        101348.88       1  \n",
       "1          0               1        112542.58       0  \n",
       "2          1               0        113931.57       1  \n",
       "3          0               0         93826.63       0  \n",
       "4          1               1         79084.10       0  "
      ]
     },
     "metadata": {},
     "output_type": "display_data"
    }
   ],
   "source": [
    "data = data.drop(['RowNumber', 'Surname', 'CustomerId'], axis=1)\n",
    "display(data.head())"
   ]
  },
  {
   "cell_type": "markdown",
   "id": "8a608329",
   "metadata": {},
   "source": [
    "Посмотрим на не числовые категориальные признаки."
   ]
  },
  {
   "cell_type": "code",
   "execution_count": 5,
   "id": "8f8a3b4c",
   "metadata": {
    "scrolled": false
   },
   "outputs": [
    {
     "name": "stdout",
     "output_type": "stream",
     "text": [
      "<class 'pandas.core.frame.DataFrame'>\n",
      "RangeIndex: 10000 entries, 0 to 9999\n",
      "Data columns (total 11 columns):\n",
      " #   Column           Non-Null Count  Dtype  \n",
      "---  ------           --------------  -----  \n",
      " 0   CreditScore      10000 non-null  int64  \n",
      " 1   Geography        10000 non-null  object \n",
      " 2   Gender           10000 non-null  object \n",
      " 3   Age              10000 non-null  int64  \n",
      " 4   Tenure           9091 non-null   float64\n",
      " 5   Balance          10000 non-null  float64\n",
      " 6   NumOfProducts    10000 non-null  int64  \n",
      " 7   HasCrCard        10000 non-null  int64  \n",
      " 8   IsActiveMember   10000 non-null  int64  \n",
      " 9   EstimatedSalary  10000 non-null  float64\n",
      " 10  Exited           10000 non-null  int64  \n",
      "dtypes: float64(3), int64(6), object(2)\n",
      "memory usage: 859.5+ KB\n",
      "None\n",
      "['France' 'Spain' 'Germany']\n",
      "['Female' 'Male']\n"
     ]
    }
   ],
   "source": [
    "print(data.info())\n",
    "print(data['Geography']. unique ())\n",
    "print(data['Gender']. unique ())"
   ]
  },
  {
   "cell_type": "markdown",
   "id": "0ad01e43",
   "metadata": {},
   "source": [
    "Считаю, пустые значения в колонке *Tenure* означают, что клиент новый. Поставлю в пропуски 0.\n",
    "\n",
    "Применим к *Geography* и *Gender* OHE."
   ]
  },
  {
   "cell_type": "code",
   "execution_count": 6,
   "id": "dad42725",
   "metadata": {},
   "outputs": [],
   "source": [
    "data = data.fillna(0)\n",
    "data_ohe = pd.get_dummies(data, drop_first=True)"
   ]
  },
  {
   "cell_type": "code",
   "execution_count": 7,
   "id": "705c23f3",
   "metadata": {},
   "outputs": [
    {
     "data": {
      "text/plain": [
       "0.2037"
      ]
     },
     "execution_count": 7,
     "metadata": {},
     "output_type": "execute_result"
    }
   ],
   "source": [
    "data_ohe['Exited'].mean()"
   ]
  },
  {
   "cell_type": "markdown",
   "id": "e629e667",
   "metadata": {},
   "source": [
    "Разобьем исходные данные на обучающую, валидационную и тестовую выборки"
   ]
  },
  {
   "cell_type": "code",
   "execution_count": 8,
   "id": "56e4f5b1",
   "metadata": {},
   "outputs": [
    {
     "name": "stdout",
     "output_type": "stream",
     "text": [
      "(6800, 11) (6800,)\n",
      "(1700, 11) (1700,)\n",
      "(1500, 11) (1500,)\n"
     ]
    }
   ],
   "source": [
    "X = data_ohe.drop('Exited', axis=1)\n",
    "y = data_ohe['Exited']\n",
    "X_train_full, X_test, y_train_full, y_test = train_test_split(X, y, \n",
    "                                                    test_size=0.15, \n",
    "                                                    random_state=777,\n",
    "                                                    stratify = y\n",
    "                                                  )\n",
    "X_train, X_valid, y_train, y_valid = train_test_split(X_train_full, y_train_full, \n",
    "                                                      test_size=0.2, \n",
    "                                                      random_state=777,\n",
    "                                                      stratify = y_train_full\n",
    "                                                  )\n",
    "print(X_train.shape, y_train.shape)\n",
    "print(X_valid.shape, y_valid.shape)\n",
    "print(X_test.shape, y_test.shape)"
   ]
  },
  {
   "cell_type": "markdown",
   "id": "d970f336",
   "metadata": {},
   "source": [
    "## Исследование задачи"
   ]
  },
  {
   "cell_type": "markdown",
   "id": "63d3e543",
   "metadata": {},
   "source": [
    "Построим модель логистической регрессии и посмотрим метрики."
   ]
  },
  {
   "cell_type": "code",
   "execution_count": 9,
   "id": "70edef41",
   "metadata": {},
   "outputs": [],
   "source": [
    "model_reg = LogisticRegression(random_state=777, solver='liblinear', class_weight='balanced')\n",
    "model_reg.fit(X_train, y_train);"
   ]
  },
  {
   "cell_type": "code",
   "execution_count": 10,
   "id": "a1782c02",
   "metadata": {},
   "outputs": [
    {
     "name": "stdout",
     "output_type": "stream",
     "text": [
      "F1 : 0.4713870029097963\n",
      "ROC-AUC: 0.7436070388743266\n"
     ]
    }
   ],
   "source": [
    "predict = model_reg.predict(X_valid)\n",
    "print('F1 :', f1_score(predict,y_valid))\n",
    "print('ROC-AUC:', roc_auc_score(y_valid,model_reg.predict_proba(X_valid)[:,-1]))"
   ]
  },
  {
   "cell_type": "markdown",
   "id": "7da126cc",
   "metadata": {},
   "source": [
    "Качество оставляет желать лучшего.\n",
    "\n",
    "Проверим лес."
   ]
  },
  {
   "cell_type": "code",
   "execution_count": 11,
   "id": "c95fee0b",
   "metadata": {},
   "outputs": [
    {
     "data": {
      "text/plain": [
       "{'max_depth': 13, 'n_estimators': 150}"
      ]
     },
     "execution_count": 11,
     "metadata": {},
     "output_type": "execute_result"
    }
   ],
   "source": [
    "clf = RandomForestClassifier(random_state=777)\n",
    "parametrs = { 'n_estimators': [10, 30, 90, 150],\n",
    "              'max_depth': range (5,15)\n",
    "            }\n",
    "grid = GridSearchCV(clf, parametrs, scoring='f1', cv=StratifiedKFold(n_splits=5, random_state=777, shuffle=True))\n",
    "grid.fit(X_train_full, y_train_full)\n",
    "grid.best_params_"
   ]
  },
  {
   "cell_type": "code",
   "execution_count": 12,
   "id": "b37a6cb2",
   "metadata": {},
   "outputs": [
    {
     "data": {
      "text/plain": [
       "RandomForestClassifier(max_depth=13, n_estimators=150, random_state=777)"
      ]
     },
     "execution_count": 12,
     "metadata": {},
     "output_type": "execute_result"
    }
   ],
   "source": [
    "best_grid_forest = RandomForestClassifier(random_state=777, n_estimators=150 , max_depth=13)\n",
    "best_grid_forest.fit(X_train, y_train)"
   ]
  },
  {
   "cell_type": "code",
   "execution_count": 13,
   "id": "dc87aaef",
   "metadata": {},
   "outputs": [
    {
     "name": "stdout",
     "output_type": "stream",
     "text": [
      "F1 : 0.578096947935368\n",
      "ROC-AUC: 0.9947767693240325\n",
      "F1 : 0.8532675709001233\n",
      "ROC-AUC: 0.9933005990179705\n"
     ]
    }
   ],
   "source": [
    "predict = best_grid_forest.predict(X_valid)\n",
    "print('F1 :', f1_score(predict,y_valid))\n",
    "print('ROC-AUC:', roc_auc_score(y_valid,grid.predict_proba(X_valid)[:,-1]))\n",
    "\n",
    "predict = best_grid_forest.predict(X_train)\n",
    "print('F1 :', f1_score(predict,y_train))\n",
    "print('ROC-AUC:', roc_auc_score(y_train,grid.predict_proba(X_train)[:,-1]))"
   ]
  },
  {
   "cell_type": "markdown",
   "id": "1ce4488d",
   "metadata": {},
   "source": [
    "Значения метрик на обучающей выборке намного выше чем на тесте.\n"
   ]
  },
  {
   "cell_type": "markdown",
   "id": "55169066",
   "metadata": {},
   "source": [
    "Запомним данную модель."
   ]
  },
  {
   "cell_type": "code",
   "execution_count": 14,
   "id": "3b5bf5fb",
   "metadata": {},
   "outputs": [
    {
     "name": "stdout",
     "output_type": "stream",
     "text": [
      "F1 : 0.5909090909090909\n",
      "ROC-AUC: 0.8786552588651317\n"
     ]
    }
   ],
   "source": [
    "model_forest_clear = RandomForestClassifier(random_state=777, max_depth=13, n_estimators=150)\n",
    "predict = grid.predict(X_test)\n",
    "print('F1 :', f1_score(predict,y_test))\n",
    "print('ROC-AUC:', roc_auc_score(y_test,grid.predict_proba(X_test)[:,-1]))"
   ]
  },
  {
   "cell_type": "markdown",
   "id": "b98217e6",
   "metadata": {},
   "source": [
    "## Борьба с дисбалансом\n",
    "### Random forest\n",
    "#### Исследование данных c upsampling\n",
    "\n",
    "Добавим положительные объекты."
   ]
  },
  {
   "cell_type": "code",
   "execution_count": 15,
   "id": "0d44e511",
   "metadata": {},
   "outputs": [],
   "source": [
    "def upsample(features, target, repeat):\n",
    "    features_zeros = features[target == 0]\n",
    "    features_ones = features[target == 1]\n",
    "    target_zeros = target[target == 0]\n",
    "    target_ones = target[target == 1]\n",
    "\n",
    "    features_upsampled = pd.concat([features_zeros] + [features_ones] * repeat)\n",
    "    target_upsampled = pd.concat([target_zeros] + [target_ones] * repeat)\n",
    "    \n",
    "    features_upsampled, target_upsampled = shuffle(\n",
    "        features_upsampled, target_upsampled, random_state=777)\n",
    "    \n",
    "    return features_upsampled, target_upsampled\n",
    "def downsample(features, target, fraction):\n",
    "    features_zeros = features[target == 0]\n",
    "    features_ones = features[target == 1]\n",
    "    target_zeros = target[target == 0]\n",
    "    target_ones = target[target == 1]\n",
    "\n",
    "    features_downsampled = pd.concat(\n",
    "        [features_zeros.sample(frac=fraction, random_state=777)] + [features_ones])\n",
    "    target_downsampled = pd.concat(\n",
    "        [target_zeros.sample(frac=fraction, random_state=777)] + [target_ones])\n",
    "    \n",
    "    features_downsampled, target_downsampled = shuffle(\n",
    "        features_downsampled, target_downsampled, random_state=777)\n",
    "    \n",
    "    return features_downsampled, target_downsampled\n"
   ]
  },
  {
   "cell_type": "markdown",
   "id": "70c0b869",
   "metadata": {},
   "source": [
    "Построим лес на получившихся данных"
   ]
  },
  {
   "cell_type": "code",
   "execution_count": 16,
   "id": "772e8593",
   "metadata": {},
   "outputs": [],
   "source": [
    "def grid_mod(features, target, X_valid, y_valid, method='simple', est=[30, 90, 150, 450], depth=range(5,15,1)):\n",
    "    best_parameters = {'depth':0,'n_estimators':0, 'max_score':0}\n",
    "    if method == 'SMOTE':\n",
    "        oversample = SMOTE(random_state=777, k_neighbors=5)\n",
    "        X_sampled, y_sampled = oversample.fit_resample(features, target)\n",
    "    elif method == 'downsample_naive':\n",
    "        X_sampled, y_sampled = downsample(features, target, 0.4)\n",
    "    elif method == 'downsample_nm':\n",
    "        nm = NearMiss(version=2)\n",
    "        X_sampled, y_sampled = nm.fit_resample(features, target)\n",
    "    else:\n",
    "        X_sampled, y_sampled = upsample(features, target, 3)\n",
    "    for d in tqdm(depth):\n",
    "        for e in (est):\n",
    "            model = RandomForestClassifier(random_state=777, n_estimators=e, max_depth=d)\n",
    "            model.fit(X_sampled, y_sampled)\n",
    "            predict = model.predict(X_valid)\n",
    "            if f1_score(y_valid, predict)>best_parameters['max_score']:\n",
    "                best_parameters['depth'] = d\n",
    "                best_parameters['n_estimators'] = e\n",
    "                best_parameters['max_score'] = f1_score(y_valid, predict)\n",
    "                best_model = model\n",
    "    print(best_parameters)          \n",
    "    return best_parameters, best_model\n",
    "                "
   ]
  },
  {
   "cell_type": "code",
   "execution_count": 17,
   "id": "aac16562",
   "metadata": {},
   "outputs": [
    {
     "name": "stderr",
     "output_type": "stream",
     "text": [
      "100%|██████████████████████████████████████████████████████████████████████████████████| 10/10 [00:12<00:00,  1.28s/it]"
     ]
    },
    {
     "name": "stdout",
     "output_type": "stream",
     "text": [
      "{'depth': 12, 'n_estimators': 30, 'max_score': 0.5816733067729083}\n"
     ]
    },
    {
     "name": "stderr",
     "output_type": "stream",
     "text": [
      "\n"
     ]
    },
    {
     "data": {
      "text/plain": [
       "({'depth': 12, 'n_estimators': 30, 'max_score': 0.5816733067729083},\n",
       " RandomForestClassifier(max_depth=12, n_estimators=30, random_state=777))"
      ]
     },
     "execution_count": 17,
     "metadata": {},
     "output_type": "execute_result"
    }
   ],
   "source": [
    "grid_mod(X_train, y_train, X_valid, y_valid, method='SMOTE', est=[60, 15, 30, 40], depth=range(5,15))"
   ]
  },
  {
   "cell_type": "code",
   "execution_count": 18,
   "id": "c679251b",
   "metadata": {
    "scrolled": true
   },
   "outputs": [
    {
     "name": "stderr",
     "output_type": "stream",
     "text": [
      "100%|██████████████████████████████████████████████████████████████████████████████████| 10/10 [00:10<00:00,  1.08s/it]"
     ]
    },
    {
     "name": "stdout",
     "output_type": "stream",
     "text": [
      "{'depth': 9, 'n_estimators': 40, 'max_score': 0.6295264623955432}\n"
     ]
    },
    {
     "name": "stderr",
     "output_type": "stream",
     "text": [
      "\n"
     ]
    },
    {
     "data": {
      "text/plain": [
       "({'depth': 9, 'n_estimators': 40, 'max_score': 0.6295264623955432},\n",
       " RandomForestClassifier(max_depth=9, n_estimators=40, random_state=777))"
      ]
     },
     "execution_count": 18,
     "metadata": {},
     "output_type": "execute_result"
    }
   ],
   "source": [
    "grid_mod(X_train, y_train, X_valid, y_valid, est=[60, 15, 30, 40], depth=range(5,15))"
   ]
  },
  {
   "cell_type": "code",
   "execution_count": 19,
   "id": "4298abed",
   "metadata": {},
   "outputs": [
    {
     "name": "stderr",
     "output_type": "stream",
     "text": [
      "100%|████████████████████████████████████████████████████████████████████████████████████| 2/2 [00:19<00:00,  9.88s/it]"
     ]
    },
    {
     "name": "stdout",
     "output_type": "stream",
     "text": [
      "{'depth': 9, 'n_estimators': 63, 'max_score': 0.6334716459197787}\n"
     ]
    },
    {
     "name": "stderr",
     "output_type": "stream",
     "text": [
      "\n"
     ]
    },
    {
     "data": {
      "text/plain": [
       "({'depth': 9, 'n_estimators': 63, 'max_score': 0.6334716459197787},\n",
       " RandomForestClassifier(max_depth=9, n_estimators=63, random_state=777))"
      ]
     },
     "execution_count": 19,
     "metadata": {},
     "output_type": "execute_result"
    }
   ],
   "source": [
    "grid_mod(X_train, y_train, X_valid, y_valid, depth=[1,9], est=range(30,70))"
   ]
  },
  {
   "cell_type": "markdown",
   "id": "375982e2",
   "metadata": {},
   "source": [
    "Запомним лучшие параметры."
   ]
  },
  {
   "cell_type": "code",
   "execution_count": 20,
   "id": "f74b8f9c",
   "metadata": {},
   "outputs": [],
   "source": [
    "model_forest_upsempl = RandomForestClassifier(random_state=777, n_estimators=63, max_depth=9)"
   ]
  },
  {
   "cell_type": "code",
   "execution_count": 21,
   "id": "97755118",
   "metadata": {},
   "outputs": [
    {
     "name": "stdout",
     "output_type": "stream",
     "text": [
      "0.6252045826513911\n",
      "0.8321943811693242\n",
      "0.8774865613470403\n",
      "0.9418118543556308\n"
     ]
    }
   ],
   "source": [
    "X_upsampled, y_upsampled = upsample(X_train, y_train, 3)\n",
    "model_forest_upsempl.fit(X_upsampled, y_upsampled)\n",
    "print(f1_score(y_test, model_forest_upsempl.predict(X_test)))\n",
    "print(f1_score(y_upsampled, model_forest_upsempl.predict(X_upsampled)))\n",
    "print(roc_auc_score(y_test, model_forest_upsempl.predict_proba(X_test)[:,-1]))\n",
    "print(roc_auc_score(y_upsampled, model_forest_upsempl.predict_proba(X_upsampled)[:,-1]))"
   ]
  },
  {
   "cell_type": "markdown",
   "id": "f986e1f1",
   "metadata": {},
   "source": [
    "#### Исследование данных c downsampling\n",
    "Удалим часть отрицательных объектов"
   ]
  },
  {
   "cell_type": "code",
   "execution_count": 22,
   "id": "aef396a5",
   "metadata": {},
   "outputs": [
    {
     "name": "stderr",
     "output_type": "stream",
     "text": [
      "100%|██████████████████████████████████████████████████████████████████████████████████| 10/10 [00:25<00:00,  2.55s/it]"
     ]
    },
    {
     "name": "stdout",
     "output_type": "stream",
     "text": [
      "{'depth': 9, 'n_estimators': 150, 'max_score': 0.6158038147138964}\n"
     ]
    },
    {
     "name": "stderr",
     "output_type": "stream",
     "text": [
      "\n"
     ]
    }
   ],
   "source": [
    "grid_mod(X_train, y_train, X_valid, y_valid, method='downsample_naive', est=[30, 90, 150, 450], depth=range(5,15,1));"
   ]
  },
  {
   "cell_type": "code",
   "execution_count": 38,
   "id": "dd5dbe40",
   "metadata": {},
   "outputs": [
    {
     "name": "stderr",
     "output_type": "stream",
     "text": [
      "100%|████████████████████████████████████████████████████████████████████████████████████| 2/2 [00:31<00:00, 15.89s/it]"
     ]
    },
    {
     "name": "stdout",
     "output_type": "stream",
     "text": [
      "{'depth': 9, 'n_estimators': 160, 'max_score': 0.616643929058663}\n"
     ]
    },
    {
     "name": "stderr",
     "output_type": "stream",
     "text": [
      "\n"
     ]
    }
   ],
   "source": [
    "grid_mod(X_train, y_train, X_valid, y_valid, method='downsample_naive', est=range(140, 170), depth=range(8, 10));"
   ]
  },
  {
   "cell_type": "markdown",
   "id": "e4284f8e",
   "metadata": {},
   "source": [
    "Запомним лучшую модель."
   ]
  },
  {
   "cell_type": "code",
   "execution_count": 39,
   "id": "18f9e064",
   "metadata": {},
   "outputs": [],
   "source": [
    "model_forest_downsempl = RandomForestClassifier(random_state=777, n_estimators=160, max_depth=9)"
   ]
  },
  {
   "cell_type": "code",
   "execution_count": 25,
   "id": "2ef32505",
   "metadata": {},
   "outputs": [
    {
     "name": "stderr",
     "output_type": "stream",
     "text": [
      "100%|██████████████████████████████████████████████████████████████████████████████████| 10/10 [00:20<00:00,  2.10s/it]"
     ]
    },
    {
     "name": "stdout",
     "output_type": "stream",
     "text": [
      "{'depth': 11, 'n_estimators': 90, 'max_score': 0.3615531508593253}\n"
     ]
    },
    {
     "name": "stderr",
     "output_type": "stream",
     "text": [
      "\n"
     ]
    }
   ],
   "source": [
    "grid_mod(X_train, y_train, X_valid, y_valid, method='downsample_nm');"
   ]
  },
  {
   "cell_type": "markdown",
   "id": "d4ae6896",
   "metadata": {},
   "source": [
    "### Логистическая регрессия\n",
    "Попробуем разные пороги для модели логистической регрессии\n",
    "#### Исследование данных c upsampling\n",
    "Добавим положительные объекты и посмотрим как влияют пороги на результат"
   ]
  },
  {
   "cell_type": "code",
   "execution_count": 26,
   "id": "44c4ff14",
   "metadata": {},
   "outputs": [
    {
     "name": "stdout",
     "output_type": "stream",
     "text": [
      "(9570, 11) (9570,)\n"
     ]
    }
   ],
   "source": [
    "X_upsampled, y_upsampled = upsample(X_train, y_train, 3)\n",
    "print(X_upsampled.shape, y_upsampled.shape)"
   ]
  },
  {
   "cell_type": "code",
   "execution_count": 27,
   "id": "d0db5783",
   "metadata": {},
   "outputs": [
    {
     "name": "stdout",
     "output_type": "stream",
     "text": [
      "threshold: 0.562 F1 : 0.5036496350364964\n"
     ]
    }
   ],
   "source": [
    "model = LogisticRegression(random_state=777, solver='liblinear',C=1, class_weight='balanced')\n",
    "model.fit(X_upsampled, y_upsampled)\n",
    "probabilities_valid = model.predict_proba(X_valid)\n",
    "probabilities_one_valid = probabilities_valid[:, 1]\n",
    "best_score = 0\n",
    "tr = 0\n",
    "for threshold in np.arange(0.5, 0.565, 0.001):\n",
    "    predicted_valid = (model.predict_proba(X_valid)[:,-1]>=threshold)\n",
    "    F1 = f1_score(y_valid, predicted_valid)\n",
    "    if F1>best_score:\n",
    "        best_score = F1\n",
    "        tr = threshold\n",
    "print('threshold:', tr, 'F1 :', best_score)"
   ]
  },
  {
   "cell_type": "code",
   "execution_count": 28,
   "id": "8e95c7d0",
   "metadata": {
    "scrolled": true
   },
   "outputs": [
    {
     "name": "stdout",
     "output_type": "stream",
     "text": [
      "ROC-AUC 0.7459571724968196\n"
     ]
    }
   ],
   "source": [
    "predicted_valid = (model.predict_proba(X_valid)[:,-1]>=0.548)\n",
    "print('ROC-AUC', roc_auc_score(y_valid, model.predict_proba(X_valid)[:,-1]))"
   ]
  },
  {
   "cell_type": "markdown",
   "id": "6d62ad28",
   "metadata": {},
   "source": [
    "Значения получились немного лучше чем для стандартного параметра *threshold*.\n",
    "\n",
    "Проверим отличаются ли значения от несэмплированых данных."
   ]
  },
  {
   "cell_type": "code",
   "execution_count": 29,
   "id": "e156ac56",
   "metadata": {},
   "outputs": [
    {
     "name": "stdout",
     "output_type": "stream",
     "text": [
      "threshold: 0.558 F1 : 0.5035971223021583\n"
     ]
    }
   ],
   "source": [
    "model = LogisticRegression(random_state=777, solver='liblinear',C=0.5, class_weight='balanced')\n",
    "model.fit(X_train, y_train)\n",
    "probabilities_valid = model.predict_proba(X_valid)\n",
    "probabilities_one_valid = probabilities_valid[:, 1]\n",
    "best_score = 0\n",
    "tr = 0\n",
    "for threshold in np.arange(0.50, 0.6, 0.001):\n",
    "    predicted_valid = (model.predict_proba(X_valid)[:,-1]>=threshold)\n",
    "    F1 = f1_score(y_valid, predicted_valid)\n",
    "    if F1>best_score:\n",
    "        best_score = F1\n",
    "        tr = threshold\n",
    "print('threshold:', tr, 'F1 :', best_score)"
   ]
  },
  {
   "cell_type": "markdown",
   "id": "ce9aa34e",
   "metadata": {},
   "source": [
    "Есть небольшая разница.\n",
    "\n",
    "Попробуем SMOTE"
   ]
  },
  {
   "cell_type": "code",
   "execution_count": 30,
   "id": "219c5835",
   "metadata": {},
   "outputs": [],
   "source": [
    "oversample = SMOTE(random_state=777)\n",
    "X_upsampled, y_upsampled = oversample.fit_resample(X_train, y_train)"
   ]
  },
  {
   "cell_type": "code",
   "execution_count": 31,
   "id": "892efb83",
   "metadata": {},
   "outputs": [
    {
     "name": "stdout",
     "output_type": "stream",
     "text": [
      "threshold: 0.544 F1 : 0.49883990719257537\n"
     ]
    }
   ],
   "source": [
    "\n",
    "model = LogisticRegression(random_state=777, solver='liblinear', class_weight='balanced')\n",
    "model.fit(X_upsampled, y_upsampled)\n",
    "probabilities_valid = model.predict_proba(X_valid)\n",
    "probabilities_one_valid = probabilities_valid[:, 1]\n",
    "best_score = 0\n",
    "tr = 0\n",
    "for threshold in np.arange(0.50, 0.61, 0.001):\n",
    "    predicted_valid = (model.predict_proba(X_valid)[:,-1]>=threshold)\n",
    "    F1 = f1_score(y_valid, predicted_valid)\n",
    "    if F1>best_score:\n",
    "        best_score = F1\n",
    "        tr = threshold\n",
    "print('threshold:', tr, 'F1 :', best_score)"
   ]
  },
  {
   "cell_type": "markdown",
   "id": "031fed85",
   "metadata": {},
   "source": [
    "Метрика ухудшилась"
   ]
  },
  {
   "cell_type": "code",
   "execution_count": 32,
   "id": "53ad7600",
   "metadata": {},
   "outputs": [
    {
     "name": "stdout",
     "output_type": "stream",
     "text": [
      "ROC-AUC 0.7396282477096336\n"
     ]
    }
   ],
   "source": [
    "predicted_valid = (model.predict_proba(X_valid)[:,-1]>=0.548)\n",
    "print('ROC-AUC', roc_auc_score(y_valid, model.predict_proba(X_valid)[:,-1]))"
   ]
  },
  {
   "cell_type": "markdown",
   "id": "34f1b7d6",
   "metadata": {},
   "source": [
    "#### Исследование данных c downsampling\n",
    "Уберем часть отрицательных объектов и посмотрим как влияют пороги на результат. В данном случае расположение точек в пространстве изменится, ожидаю изменения метрик."
   ]
  },
  {
   "cell_type": "code",
   "execution_count": 33,
   "id": "c8230003",
   "metadata": {},
   "outputs": [
    {
     "name": "stdout",
     "output_type": "stream",
     "text": [
      "(3551, 11) (3551,)\n"
     ]
    }
   ],
   "source": [
    "X_downsampled, y_downsampled = downsample(X_train, y_train, 0.4)\n",
    "print(X_downsampled.shape, y_downsampled.shape)"
   ]
  },
  {
   "cell_type": "code",
   "execution_count": 34,
   "id": "62c39ae9",
   "metadata": {},
   "outputs": [
    {
     "name": "stdout",
     "output_type": "stream",
     "text": [
      "threshold: 0.544 F1 : 0.4839067702552719\n"
     ]
    }
   ],
   "source": [
    "model = LogisticRegression(random_state=777, solver='liblinear', class_weight='balanced')\n",
    "model.fit(X_downsampled, y_downsampled)\n",
    "probabilities_valid = model.predict_proba(X_valid)\n",
    "probabilities_one_valid = probabilities_valid[:, 1]\n",
    "best_score = 0 \n",
    "tr = 0\n",
    "for threshold in np.arange(0.5, 0.7, 0.002):\n",
    "    predicted_valid = (model.predict_proba(X_valid)[:,-1]>=threshold)\n",
    "    F1 = f1_score(y_valid, predicted_valid)\n",
    "    if F1>best_score:\n",
    "        best_score = F1\n",
    "        tr = threshold\n",
    "print('threshold:', tr, 'F1 :', best_score)"
   ]
  },
  {
   "cell_type": "code",
   "execution_count": 35,
   "id": "7ed637bc",
   "metadata": {},
   "outputs": [
    {
     "name": "stdout",
     "output_type": "stream",
     "text": [
      "ROC-AUC 0.7268700745382979\n"
     ]
    }
   ],
   "source": [
    "predicted_valid = (model.predict_proba(X_valid)[:,-1]>=0.574)\n",
    "print('ROC-AUC', roc_auc_score(y_valid, model.predict_proba(X_valid)[:,-1]))"
   ]
  },
  {
   "cell_type": "markdown",
   "id": "05513068",
   "metadata": {},
   "source": [
    "\"Умное семплирование\" делает только хуже"
   ]
  },
  {
   "cell_type": "markdown",
   "id": "6d4ca852",
   "metadata": {},
   "source": [
    "## Тестирование модели\n",
    "Проверим получившиеся модели на тестовой выборке.\n",
    "Обучим каждую модель на полной совокупности данных с учетом их сэмплинга."
   ]
  },
  {
   "cell_type": "code",
   "execution_count": 36,
   "id": "3c2d86d8",
   "metadata": {},
   "outputs": [],
   "source": [
    "def roc_auc_plot(y, proba, model):\n",
    "    fpr, tpr, thresholds = roc_curve(y, proba)\n",
    "    plt.figure()\n",
    "    plt.plot([0, 1], [0, 1], linestyle='--')\n",
    "    plt.plot(fpr, tpr)\n",
    "    plt.xlim([0.0, 1.0])\n",
    "    plt.ylim([0.0, 1.0])\n",
    "    plt.xlabel('False Positive Rate')\n",
    "    plt.ylabel('True Positive Rate')\n",
    "    plt.title(model)\n",
    "    "
   ]
  },
  {
   "cell_type": "code",
   "execution_count": 40,
   "id": "f12b7117",
   "metadata": {},
   "outputs": [
    {
     "data": {
      "text/html": [
       "<div>\n",
       "<style scoped>\n",
       "    .dataframe tbody tr th:only-of-type {\n",
       "        vertical-align: middle;\n",
       "    }\n",
       "\n",
       "    .dataframe tbody tr th {\n",
       "        vertical-align: top;\n",
       "    }\n",
       "\n",
       "    .dataframe thead th {\n",
       "        text-align: right;\n",
       "    }\n",
       "</style>\n",
       "<table border=\"1\" class=\"dataframe\">\n",
       "  <thead>\n",
       "    <tr style=\"text-align: right;\">\n",
       "      <th></th>\n",
       "      <th>Score</th>\n",
       "      <th>LR:</th>\n",
       "      <th>LR Train:</th>\n",
       "      <th>RFC</th>\n",
       "      <th>RFC Train</th>\n",
       "      <th>RFU:</th>\n",
       "      <th>RFU Train:</th>\n",
       "      <th>RFD:</th>\n",
       "      <th>RFD Train:</th>\n",
       "    </tr>\n",
       "  </thead>\n",
       "  <tbody>\n",
       "    <tr>\n",
       "      <th>0</th>\n",
       "      <td>F1 :</td>\n",
       "      <td>0.449864</td>\n",
       "      <td>0.581360</td>\n",
       "      <td>0.590909</td>\n",
       "      <td>0.839031</td>\n",
       "      <td>0.612903</td>\n",
       "      <td>0.819807</td>\n",
       "      <td>0.615132</td>\n",
       "      <td>0.803953</td>\n",
       "    </tr>\n",
       "    <tr>\n",
       "      <th>1</th>\n",
       "      <td>ROC-AUC:</td>\n",
       "      <td>0.720383</td>\n",
       "      <td>0.728785</td>\n",
       "      <td>0.878655</td>\n",
       "      <td>0.993599</td>\n",
       "      <td>0.875387</td>\n",
       "      <td>0.936819</td>\n",
       "      <td>0.877413</td>\n",
       "      <td>0.942056</td>\n",
       "    </tr>\n",
       "  </tbody>\n",
       "</table>\n",
       "</div>"
      ],
      "text/plain": [
       "      Score       LR:  LR Train:       RFC  RFC Train      RFU:  RFU Train:  \\\n",
       "0      F1 :  0.449864   0.581360  0.590909   0.839031  0.612903    0.819807   \n",
       "1  ROC-AUC:  0.720383   0.728785  0.878655   0.993599  0.875387    0.936819   \n",
       "\n",
       "       RFD:  RFD Train:  \n",
       "0  0.615132    0.803953  \n",
       "1  0.877413    0.942056  "
      ]
     },
     "metadata": {},
     "output_type": "display_data"
    },
    {
     "data": {
      "image/png": "[encoded data removed]",
      "text/plain": [
       "<Figure size 648x648 with 1 Axes>"
      ]
     },
     "metadata": {
      "needs_background": "light"
     },
     "output_type": "display_data"
    }
   ],
   "source": [
    "X_full_up, y_full_up = upsample(X_train_full, y_train_full, 3)\n",
    "X_full_down, y_full_down = downsample(X_train_full, y_train_full, 0.4)\n",
    "\n",
    "model = LogisticRegression(random_state=777, solver='liblinear', class_weight='balanced')\n",
    "model.fit(X_full_down, y_full_down)\n",
    "lg_predicted_valid_test = (model.predict_proba(X_test)[:,-1]>=0.562)\n",
    "lg_predicted_valid_train = (model.predict_proba(X_full_down)[:,-1]>=0.562)\n",
    "\n",
    "lg_f1 = f1_score(y_test, lg_predicted_valid_test)\n",
    "lg_f1_train = f1_score(y_full_down, lg_predicted_valid_train)\n",
    "lg_roc_auc = roc_auc_score(y_test, model.predict_proba(X_test)[:,-1])\n",
    "lg_roc_auc_train = roc_auc_score(y_full_down, model.predict_proba(X_full_down)[:,-1])\n",
    "#roc_auc_plot(y_test, model.predict_proba(X_test)[:,-1], 'LogisticRegression')\n",
    "\n",
    "\n",
    "model_forest_clear.fit(X_train_full, y_train_full)\n",
    "rfc_predicted_valid_test = (model_forest_clear.predict_proba(X_test)[:,-1])\n",
    "rfc_predicted_valid_train = (model_forest_clear.predict_proba(X_train_full)[:,-1])\n",
    "\n",
    "rfc_f1 = f1_score(y_test, model_forest_clear.predict(X_test))\n",
    "rfc_f1_train = f1_score(y_train_full, model_forest_clear.predict(X_train_full))\n",
    "rfc_roc_auc = roc_auc_score(y_test, rfc_predicted_valid_test)\n",
    "rfc_roc_auc_train = roc_auc_score(y_train_full, rfc_predicted_valid_train)\n",
    "#roc_auc_plot(y_test, rfc_predicted_valid_test, 'model_forest_clear')\n",
    "\n",
    "\n",
    "model_forest_upsempl.fit(X_full_up, y_full_up)\n",
    "rfu_predicted_valid_test = (model_forest_upsempl.predict_proba(X_test)[:,-1])\n",
    "rfu_predicted_valid_train = (model_forest_upsempl.predict_proba(X_full_up)[:,-1])\n",
    "\n",
    "rfu_f1 = f1_score(y_test, model_forest_upsempl.predict(X_test))\n",
    "rfu_f1_train = f1_score(y_full_up, model_forest_upsempl.predict(X_full_up))\n",
    "rfu_roc_auc = roc_auc_score(y_test, rfu_predicted_valid_test)\n",
    "rfu_roc_auc_train = roc_auc_score(y_full_up, rfu_predicted_valid_train)\n",
    "#roc_auc_plot(y_test, rfu_predicted_valid_test, 'model_forest_upsempl')\n",
    "\n",
    "\n",
    "model_forest_downsempl.fit(X_full_down, y_full_down)\n",
    "rfd_predicted_valid_test = (model_forest_downsempl.predict_proba(X_test)[:,-1])\n",
    "rfd_predicted_valid_train = (model_forest_downsempl.predict_proba(X_full_down)[:,-1])\n",
    "\n",
    "rfd_f1 = f1_score(y_test, model_forest_downsempl.predict(X_test))\n",
    "rfd_f1_train = f1_score(y_full_down, model_forest_downsempl.predict(X_full_down))\n",
    "rfd_roc_auc = roc_auc_score(y_test, rfd_predicted_valid_test)\n",
    "rfd_roc_auc_train = roc_auc_score(y_full_down, rfd_predicted_valid_train)\n",
    "#roc_auc_plot(y_test, rfd_predicted_valid_test, 'model_forest_downsempl')\n",
    "\n",
    "\n",
    "table = pd.DataFrame({'Score':['F1 :', 'ROC-AUC:'],\n",
    "                      'LR:':[lg_f1, lg_roc_auc],\n",
    "                      'LR Train:':[lg_f1_train, lg_roc_auc_train],\n",
    "                      'RFC':[rfc_f1,rfc_roc_auc],\n",
    "                      'RFC Train':[rfc_f1_train,rfc_roc_auc_train],\n",
    "                      'RFU:':[rfu_f1, rfu_roc_auc],\n",
    "                      'RFU Train:':[rfu_f1_train, rfu_roc_auc_train],\n",
    "                      'RFD:':[rfd_f1, rfd_roc_auc],\n",
    "                      'RFD Train:':[rfd_f1_train, rfd_roc_auc_train]\n",
    "                     })\n",
    "display(table)\n",
    "plt.figure(figsize=(9, 9))\n",
    "plt.plot([0, 1], [0, 1], linestyle='--')\n",
    "for i in [model.predict_proba(X_test)[:,-1], rfc_predicted_valid_test, rfu_predicted_valid_test, rfd_predicted_valid_test]:\n",
    "    fpr, tpr, thresholds = roc_curve(y_test, i)\n",
    "    plt.plot(fpr, tpr)\n",
    "plt.xlim([0.0, 1.0])\n",
    "plt.ylim([0.0, 1.0])\n",
    "plt.xlabel('False Positive Rate')\n",
    "plt.ylabel('True Positive Rate')\n",
    "plt.legend(('random', 'LogisticRegression', 'model_forest_clear', 'model_forest_upsempl', 'model_forest_downsempl'))\n",
    "plt.show()\n"
   ]
  },
  {
   "cell_type": "markdown",
   "id": "e27b74fe",
   "metadata": {},
   "source": [
    "## Вывод\n",
    "Дана таблица с данными о клиентах банка. Убрали из нее колонки с порядком колонки и с фамилиями клиентов. Заполнили пустые поля в колонке *Tenure* нулями. \n",
    "\n",
    "Построили модели логистической регрессии и случайного леса не исправляя дисбаланс. Получили результаты не удовлетворяющие поставленной задаче <b>(F1-мера ниже 0.59)</b>, 0,49 для логистической регрессии и 0,587 для случайного леса. Тем не мение на тестовой выборке случайный лес показал хорошие значения. Скорее всего это случайность.\n",
    "\n",
    "Построили модели логистической регрессии и случайного леса для данных c *upsampling* и *downsampling*, а также подобрали пороги для регрессии. Обучили лучшие модели на всех данных из обучающей выборки с учетом сэмплинга. Сравнили лучшие модели на тестовой выборке. Лучший результат показал <b>случайный лес с downsampling</b>, эта же модель оказалась менее переобученой, а также показала лучший результат ROC-AUC. \n",
    "\n",
    "Все модели оказались переобучены.\n"
   ]
  }
 ],
 "metadata": {
  "kernelspec": {
   "display_name": "Python 3 (ipykernel)",
   "language": "python",
   "name": "python3"
  },
  "language_info": {
   "codemirror_mode": {
    "name": "ipython",
    "version": 3
   },
   "file_extension": ".py",
   "mimetype": "text/x-python",
   "name": "python",
   "nbconvert_exporter": "python",
   "pygments_lexer": "ipython3",
   "version": "3.9.12"
  }
 },
 "nbformat": 4,
 "nbformat_minor": 5
}
