{
 "cells": [
  {
   "cell_type": "code",
   "execution_count": 1,
   "id": "1d2bf5ae",
   "metadata": {},
   "outputs": [
    {
     "name": "stdout",
     "output_type": "stream",
     "text": [
      "Requirement already satisfied: phik in b:\\programs\\anaconda\\anaconda\\lib\\site-packages (0.12.3)\n",
      "Requirement already satisfied: matplotlib>=2.2.3 in b:\\programs\\anaconda\\anaconda\\lib\\site-packages (from phik) (3.5.1)\n",
      "Requirement already satisfied: pandas>=0.25.1 in b:\\programs\\anaconda\\anaconda\\lib\\site-packages (from phik) (1.4.2)\n",
      "Requirement already satisfied: scipy>=1.5.2 in b:\\programs\\anaconda\\anaconda\\lib\\site-packages (from phik) (1.7.3)\n",
      "Requirement already satisfied: numpy>=1.18.0 in b:\\programs\\anaconda\\anaconda\\lib\\site-packages (from phik) (1.21.5)\n",
      "Requirement already satisfied: joblib>=0.14.1 in b:\\programs\\anaconda\\anaconda\\lib\\site-packages (from phik) (1.2.0)\n",
      "Requirement already satisfied: kiwisolver>=1.0.1 in b:\\programs\\anaconda\\anaconda\\lib\\site-packages (from matplotlib>=2.2.3->phik) (1.3.2)\n",
      "Requirement already satisfied: python-dateutil>=2.7 in b:\\programs\\anaconda\\anaconda\\lib\\site-packages (from matplotlib>=2.2.3->phik) (2.8.2)\n",
      "Requirement already satisfied: fonttools>=4.22.0 in b:\\programs\\anaconda\\anaconda\\lib\\site-packages (from matplotlib>=2.2.3->phik) (4.25.0)\n",
      "Requirement already satisfied: pillow>=6.2.0 in b:\\programs\\anaconda\\anaconda\\lib\\site-packages (from matplotlib>=2.2.3->phik) (9.0.1)\n",
      "Requirement already satisfied: packaging>=20.0 in b:\\programs\\anaconda\\anaconda\\lib\\site-packages (from matplotlib>=2.2.3->phik) (21.3)\n",
      "Requirement already satisfied: cycler>=0.10 in b:\\programs\\anaconda\\anaconda\\lib\\site-packages (from matplotlib>=2.2.3->phik) (0.11.0)\n",
      "Requirement already satisfied: pyparsing>=2.2.1 in b:\\programs\\anaconda\\anaconda\\lib\\site-packages (from matplotlib>=2.2.3->phik) (3.0.4)\n",
      "Requirement already satisfied: pytz>=2020.1 in b:\\programs\\anaconda\\anaconda\\lib\\site-packages (from pandas>=0.25.1->phik) (2021.3)\n",
      "Requirement already satisfied: six>=1.5 in b:\\programs\\anaconda\\anaconda\\lib\\site-packages (from python-dateutil>=2.7->matplotlib>=2.2.3->phik) (1.16.0)\n",
      "Requirement already satisfied: lightgbm in b:\\programs\\anaconda\\anaconda\\lib\\site-packages (3.3.5)\n",
      "Requirement already satisfied: scipy in b:\\programs\\anaconda\\anaconda\\lib\\site-packages (from lightgbm) (1.7.3)\n",
      "Requirement already satisfied: wheel in b:\\programs\\anaconda\\anaconda\\lib\\site-packages (from lightgbm) (0.37.1)\n",
      "Requirement already satisfied: scikit-learn!=0.22.0 in b:\\programs\\anaconda\\anaconda\\lib\\site-packages (from lightgbm) (1.0.2)\n",
      "Requirement already satisfied: numpy in b:\\programs\\anaconda\\anaconda\\lib\\site-packages (from lightgbm) (1.21.5)\n",
      "Requirement already satisfied: threadpoolctl>=2.0.0 in b:\\programs\\anaconda\\anaconda\\lib\\site-packages (from scikit-learn!=0.22.0->lightgbm) (2.2.0)\n",
      "Requirement already satisfied: joblib>=0.11 in b:\\programs\\anaconda\\anaconda\\lib\\site-packages (from scikit-learn!=0.22.0->lightgbm) (1.2.0)\n"
     ]
    }
   ],
   "source": [
    "!pip install phik\n",
    "!pip install lightgbm"
   ]
  },
  {
   "cell_type": "markdown",
   "id": "e633b6c9",
   "metadata": {},
   "source": [
    "# Определение стоимости автомобилей"
   ]
  },
  {
   "cell_type": "markdown",
   "id": "5258fbf5",
   "metadata": {},
   "source": [
    "Сервис по продаже автомобилей с пробегом «Не бит, не крашен» разрабатывает приложение для привлечения новых клиентов. В нём можно быстро узнать рыночную стоимость своего автомобиля. В вашем распоряжении исторические данные: технические характеристики, комплектации и цены автомобилей. Вам нужно построить модель для определения стоимости. \n",
    "\n",
    "Заказчику важны:\n",
    "\n",
    "- качество предсказания;\n",
    "- скорость предсказания;\n",
    "- время обучения."
   ]
  },
  {
   "cell_type": "markdown",
   "id": "6c444692",
   "metadata": {},
   "source": [
    "<div> <b>Цель исследования:</b><br>\n",
    "    1. Построить различные модели предсказания стоимости автомобиля <br>\n",
    "    2. Сравнить время обучения, время предсказания и точность моделей<br>\n",
    "    3. Добиться значения RMSE ниже 2500<br><br>\n",
    "    <b>Ход исследования:</b><br>\n",
    "    1. Загрузка и пердобработка данных<br>\n",
    "    2. Построение моделей<br>\n",
    "    <ul>\n",
    "         <li>LinearRegression</li>\n",
    "         <li>RandomForest</li>\n",
    "         <li>LightGBM</li>\n",
    "         <li>CatBoost</li>\n",
    "    </ul>\n",
    "    3. Пулучение нужного результата и анализ моделей<br>\n",
    "    </div>"
   ]
  },
  {
   "cell_type": "markdown",
   "id": "1eeafe01",
   "metadata": {},
   "source": [
    "## Подготовка данных"
   ]
  },
  {
   "cell_type": "code",
   "execution_count": 2,
   "id": "044aad74",
   "metadata": {},
   "outputs": [],
   "source": [
    "import pandas as pd\n",
    "import numpy as np\n",
    "import seaborn as sns\n",
    "from datetime import datetime\n",
    "from phik import resources, report\n",
    "import matplotlib.pyplot as plt\n",
    "from tqdm import tqdm\n",
    "\n",
    "from sklearn.model_selection import train_test_split\n",
    "from sklearn.pipeline import Pipeline\n",
    "from sklearn.metrics import mean_squared_error\n",
    "from sklearn.model_selection import GridSearchCV\n",
    "from sklearn.preprocessing import OneHotEncoder\n",
    "from sklearn.preprocessing import OrdinalEncoder\n",
    "from sklearn.pipeline import Pipeline\n",
    "from sklearn.model_selection import cross_validate\n",
    "\n",
    "from sklearn.linear_model import LinearRegression\n",
    "from sklearn.linear_model import Ridge, Lasso\n",
    "from sklearn.ensemble import RandomForestRegressor\n",
    "from catboost import CatBoostRegressor, Pool\n",
    "import lightgbm as lgb\n",
    "from lightgbm import LGBMRegressor\n"
   ]
  },
  {
   "cell_type": "code",
   "execution_count": 3,
   "id": "acacd101",
   "metadata": {},
   "outputs": [
    {
     "name": "stdout",
     "output_type": "stream",
     "text": [
      "<class 'pandas.core.frame.DataFrame'>\n",
      "RangeIndex: 354369 entries, 0 to 354368\n",
      "Data columns (total 16 columns):\n",
      " #   Column             Non-Null Count   Dtype \n",
      "---  ------             --------------   ----- \n",
      " 0   DateCrawled        354369 non-null  object\n",
      " 1   Price              354369 non-null  int64 \n",
      " 2   VehicleType        316879 non-null  object\n",
      " 3   RegistrationYear   354369 non-null  int64 \n",
      " 4   Gearbox            334536 non-null  object\n",
      " 5   Power              354369 non-null  int64 \n",
      " 6   Model              334664 non-null  object\n",
      " 7   Kilometer          354369 non-null  int64 \n",
      " 8   RegistrationMonth  354369 non-null  int64 \n",
      " 9   FuelType           321474 non-null  object\n",
      " 10  Brand              354369 non-null  object\n",
      " 11  Repaired           283215 non-null  object\n",
      " 12  DateCreated        354369 non-null  object\n",
      " 13  NumberOfPictures   354369 non-null  int64 \n",
      " 14  PostalCode         354369 non-null  int64 \n",
      " 15  LastSeen           354369 non-null  object\n",
      "dtypes: int64(7), object(9)\n",
      "memory usage: 43.3+ MB\n"
     ]
    }
   ],
   "source": [
    "df = pd.read_csv('autos.csv')\n",
    "df.info()"
   ]
  },
  {
   "cell_type": "code",
   "execution_count": 4,
   "id": "d2cabc51",
   "metadata": {},
   "outputs": [],
   "source": [
    "df.DateCrawled = pd.to_datetime(df.DateCrawled)\n",
    "df.DateCreated = pd.to_datetime(df.DateCreated)\n",
    "df.LastSeen = pd.to_datetime(df.LastSeen)"
   ]
  },
  {
   "cell_type": "code",
   "execution_count": 5,
   "id": "cee70af1",
   "metadata": {},
   "outputs": [
    {
     "data": {
      "text/plain": [
       "329497   2016-03-05 14:06:22\n",
       "220583   2016-03-05 14:06:23\n",
       "176823   2016-03-05 14:06:24\n",
       "99885    2016-03-05 14:06:24\n",
       "324763   2016-03-05 14:06:24\n",
       "                 ...        \n",
       "204218   2016-04-07 14:36:53\n",
       "53739    2016-04-07 14:36:54\n",
       "301030   2016-04-07 14:36:55\n",
       "339649   2016-04-07 14:36:56\n",
       "90713    2016-04-07 14:36:58\n",
       "Name: DateCrawled, Length: 354369, dtype: datetime64[ns]"
      ]
     },
     "execution_count": 5,
     "metadata": {},
     "output_type": "execute_result"
    }
   ],
   "source": [
    "df.DateCrawled.sort_values()"
   ]
  },
  {
   "cell_type": "markdown",
   "id": "5a92c80f",
   "metadata": {},
   "source": [
    "Дата скачивания анкеты и дату последней активности считаю не информативными признаками."
   ]
  },
  {
   "cell_type": "code",
   "execution_count": 6,
   "id": "6c2251ed",
   "metadata": {},
   "outputs": [],
   "source": [
    "df = df.drop(['DateCrawled', 'LastSeen'], axis=1)"
   ]
  },
  {
   "cell_type": "code",
   "execution_count": 7,
   "id": "6f0e01dd",
   "metadata": {},
   "outputs": [
    {
     "data": {
      "text/plain": [
       "array([0], dtype=int64)"
      ]
     },
     "execution_count": 7,
     "metadata": {},
     "output_type": "execute_result"
    }
   ],
   "source": [
    "df.NumberOfPictures.unique()"
   ]
  },
  {
   "cell_type": "markdown",
   "id": "e6b34872",
   "metadata": {},
   "source": [
    "Количество картинок везде 0.Удалим признак."
   ]
  },
  {
   "cell_type": "code",
   "execution_count": 8,
   "id": "7f6327c4",
   "metadata": {},
   "outputs": [],
   "source": [
    "df = df.drop('NumberOfPictures', axis=1)"
   ]
  },
  {
   "cell_type": "code",
   "execution_count": 9,
   "id": "88617174",
   "metadata": {},
   "outputs": [
    {
     "data": {
      "text/html": [
       "<div>\n",
       "<style scoped>\n",
       "    .dataframe tbody tr th:only-of-type {\n",
       "        vertical-align: middle;\n",
       "    }\n",
       "\n",
       "    .dataframe tbody tr th {\n",
       "        vertical-align: top;\n",
       "    }\n",
       "\n",
       "    .dataframe thead th {\n",
       "        text-align: right;\n",
       "    }\n",
       "</style>\n",
       "<table border=\"1\" class=\"dataframe\">\n",
       "  <thead>\n",
       "    <tr style=\"text-align: right;\">\n",
       "      <th></th>\n",
       "      <th>Price</th>\n",
       "      <th>VehicleType</th>\n",
       "      <th>RegistrationYear</th>\n",
       "      <th>Gearbox</th>\n",
       "      <th>Power</th>\n",
       "      <th>Model</th>\n",
       "      <th>Kilometer</th>\n",
       "      <th>RegistrationMonth</th>\n",
       "      <th>FuelType</th>\n",
       "      <th>Brand</th>\n",
       "      <th>Repaired</th>\n",
       "      <th>DateCreated</th>\n",
       "      <th>PostalCode</th>\n",
       "    </tr>\n",
       "  </thead>\n",
       "  <tbody>\n",
       "    <tr>\n",
       "      <th>61207</th>\n",
       "      <td>8999</td>\n",
       "      <td>NaN</td>\n",
       "      <td>2005</td>\n",
       "      <td>NaN</td>\n",
       "      <td>0</td>\n",
       "      <td>147</td>\n",
       "      <td>125000</td>\n",
       "      <td>0</td>\n",
       "      <td>petrol</td>\n",
       "      <td>alfa_romeo</td>\n",
       "      <td>NaN</td>\n",
       "      <td>2014-03-10</td>\n",
       "      <td>79669</td>\n",
       "    </tr>\n",
       "    <tr>\n",
       "      <th>4001</th>\n",
       "      <td>6000</td>\n",
       "      <td>bus</td>\n",
       "      <td>1995</td>\n",
       "      <td>auto</td>\n",
       "      <td>200</td>\n",
       "      <td>other</td>\n",
       "      <td>150000</td>\n",
       "      <td>0</td>\n",
       "      <td>petrol</td>\n",
       "      <td>chevrolet</td>\n",
       "      <td>no</td>\n",
       "      <td>2015-03-20</td>\n",
       "      <td>24558</td>\n",
       "    </tr>\n",
       "    <tr>\n",
       "      <th>342275</th>\n",
       "      <td>10400</td>\n",
       "      <td>bus</td>\n",
       "      <td>1993</td>\n",
       "      <td>NaN</td>\n",
       "      <td>0</td>\n",
       "      <td>ducato</td>\n",
       "      <td>30000</td>\n",
       "      <td>1</td>\n",
       "      <td>gasoline</td>\n",
       "      <td>fiat</td>\n",
       "      <td>NaN</td>\n",
       "      <td>2015-06-18</td>\n",
       "      <td>76275</td>\n",
       "    </tr>\n",
       "    <tr>\n",
       "      <th>86601</th>\n",
       "      <td>14250</td>\n",
       "      <td>convertible</td>\n",
       "      <td>2005</td>\n",
       "      <td>manual</td>\n",
       "      <td>163</td>\n",
       "      <td>slk</td>\n",
       "      <td>150000</td>\n",
       "      <td>6</td>\n",
       "      <td>petrol</td>\n",
       "      <td>mercedes_benz</td>\n",
       "      <td>no</td>\n",
       "      <td>2015-08-07</td>\n",
       "      <td>76228</td>\n",
       "    </tr>\n",
       "    <tr>\n",
       "      <th>175103</th>\n",
       "      <td>5200</td>\n",
       "      <td>convertible</td>\n",
       "      <td>2006</td>\n",
       "      <td>manual</td>\n",
       "      <td>109</td>\n",
       "      <td>2_reihe</td>\n",
       "      <td>80000</td>\n",
       "      <td>11</td>\n",
       "      <td>petrol</td>\n",
       "      <td>peugeot</td>\n",
       "      <td>no</td>\n",
       "      <td>2015-08-10</td>\n",
       "      <td>26382</td>\n",
       "    </tr>\n",
       "  </tbody>\n",
       "</table>\n",
       "</div>"
      ],
      "text/plain": [
       "        Price  VehicleType  RegistrationYear Gearbox  Power    Model  \\\n",
       "61207    8999          NaN              2005     NaN      0      147   \n",
       "4001     6000          bus              1995    auto    200    other   \n",
       "342275  10400          bus              1993     NaN      0   ducato   \n",
       "86601   14250  convertible              2005  manual    163      slk   \n",
       "175103   5200  convertible              2006  manual    109  2_reihe   \n",
       "\n",
       "        Kilometer  RegistrationMonth  FuelType          Brand Repaired  \\\n",
       "61207      125000                  0    petrol     alfa_romeo      NaN   \n",
       "4001       150000                  0    petrol      chevrolet       no   \n",
       "342275      30000                  1  gasoline           fiat      NaN   \n",
       "86601      150000                  6    petrol  mercedes_benz       no   \n",
       "175103      80000                 11    petrol        peugeot       no   \n",
       "\n",
       "       DateCreated  PostalCode  \n",
       "61207   2014-03-10       79669  \n",
       "4001    2015-03-20       24558  \n",
       "342275  2015-06-18       76275  \n",
       "86601   2015-08-07       76228  \n",
       "175103  2015-08-10       26382  "
      ]
     },
     "execution_count": 9,
     "metadata": {},
     "output_type": "execute_result"
    }
   ],
   "source": [
    "df.sort_values('DateCreated').head()"
   ]
  },
  {
   "cell_type": "markdown",
   "id": "b5366ac3",
   "metadata": {},
   "source": [
    "Удалим устаревшие объявления (за 2015 год и раньше)."
   ]
  },
  {
   "cell_type": "code",
   "execution_count": 10,
   "id": "c6f5d862",
   "metadata": {},
   "outputs": [],
   "source": [
    "df = df[df['DateCreated']>datetime(2015, 12, 31)].reset_index(drop=True)"
   ]
  },
  {
   "cell_type": "markdown",
   "id": "956e3b65",
   "metadata": {},
   "source": [
    "Удалим объявления со слишком низкой ценой."
   ]
  },
  {
   "cell_type": "code",
   "execution_count": 11,
   "id": "1178819f",
   "metadata": {},
   "outputs": [
    {
     "data": {
      "text/plain": [
       "<AxesSubplot:>"
      ]
     },
     "execution_count": 11,
     "metadata": {},
     "output_type": "execute_result"
    },
    {
     "data": {
      "image/png": "[encoded data removed]",
      "text/plain": [
       "<Figure size 432x288 with 1 Axes>"
      ]
     },
     "metadata": {
      "needs_background": "light"
     },
     "output_type": "display_data"
    }
   ],
   "source": [
    "df[df['Price']<100].Price.hist(bins=100)"
   ]
  },
  {
   "cell_type": "code",
   "execution_count": 12,
   "id": "55e78f89",
   "metadata": {},
   "outputs": [],
   "source": [
    "df = df[df['Price']>1].reset_index(drop=True)"
   ]
  },
  {
   "cell_type": "markdown",
   "id": "7aad7395",
   "metadata": {},
   "source": [
    "Возможно тут стоит отрезать побольше."
   ]
  },
  {
   "cell_type": "markdown",
   "id": "d6f9dc62",
   "metadata": {},
   "source": [
    "Я удалил 0 и 1, и имел в виду что возможно стоит отрезать например до 100 евро(примерно столько стоит металолом, возможно в Германии другие цены и надо ещё приплачивать за то чтоб машину вывезли)."
   ]
  },
  {
   "cell_type": "markdown",
   "id": "c3023e95",
   "metadata": {},
   "source": [
    "Заменим пропуски в типе кузова."
   ]
  },
  {
   "cell_type": "code",
   "execution_count": 13,
   "id": "6effd3ad",
   "metadata": {
    "scrolled": true
   },
   "outputs": [
    {
     "data": {
      "text/plain": [
       "<AxesSubplot:>"
      ]
     },
     "execution_count": 13,
     "metadata": {},
     "output_type": "execute_result"
    },
    {
     "data": {
      "image/png": "[encoded data removed]",
      "text/plain": [
       "<Figure size 432x288 with 1 Axes>"
      ]
     },
     "metadata": {
      "needs_background": "light"
     },
     "output_type": "display_data"
    }
   ],
   "source": [
    "df.VehicleType.hist(bins=100)"
   ]
  },
  {
   "cell_type": "code",
   "execution_count": 14,
   "id": "75583ccf",
   "metadata": {
    "scrolled": false
   },
   "outputs": [],
   "source": [
    "df.loc[df['VehicleType'].isna(),'VehicleType'] = 'other'"
   ]
  },
  {
   "cell_type": "markdown",
   "id": "d0345cf3",
   "metadata": {},
   "source": [
    "Почистим год регистрации. Оставим значения только за последние 30 лет. Более ранние авто могут быть раритетом.\n",
    "\n",
    "<ul>\n",
    "         <li>Есть некоторое количество неадекватно маленьких чисел в этой графе.</li>\n",
    "         <li>Всего автомобилей старше 30 лет не много</li>\n",
    "         <li>Если рассматривать старые авто, то, считаю, что раритет от металлолома можно отличить только по более детальным признакам(например фото, которых у нас нет)</li>\n",
    "\n",
    "</ul>"
   ]
  },
  {
   "cell_type": "code",
   "execution_count": 15,
   "id": "69fb58ce",
   "metadata": {},
   "outputs": [],
   "source": [
    "df = df[(df['RegistrationYear']<2017) &(df['RegistrationYear']>=2017-30)]"
   ]
  },
  {
   "cell_type": "code",
   "execution_count": 16,
   "id": "cbff6016",
   "metadata": {},
   "outputs": [
    {
     "data": {
      "text/plain": [
       "<AxesSubplot:>"
      ]
     },
     "execution_count": 16,
     "metadata": {},
     "output_type": "execute_result"
    },
    {
     "data": {
      "image/png": "[encoded data removed]",
      "text/plain": [
       "<Figure size 432x288 with 1 Axes>"
      ]
     },
     "metadata": {
      "needs_background": "light"
     },
     "output_type": "display_data"
    }
   ],
   "source": [
    "df.RegistrationYear.plot.box(grid=True)"
   ]
  },
  {
   "cell_type": "markdown",
   "id": "e21989b6",
   "metadata": {},
   "source": [
    "Посмотрим на тип коробки передач. Заполним пустые ячейки более частым значением."
   ]
  },
  {
   "cell_type": "code",
   "execution_count": 17,
   "id": "91654cd9",
   "metadata": {
    "scrolled": true
   },
   "outputs": [
    {
     "data": {
      "text/plain": [
       "<AxesSubplot:>"
      ]
     },
     "execution_count": 17,
     "metadata": {},
     "output_type": "execute_result"
    },
    {
     "data": {
      "image/png": "[encoded data removed]",
      "text/plain": [
       "<Figure size 432x288 with 1 Axes>"
      ]
     },
     "metadata": {
      "needs_background": "light"
     },
     "output_type": "display_data"
    }
   ],
   "source": [
    "df.Gearbox.hist()"
   ]
  },
  {
   "cell_type": "code",
   "execution_count": 18,
   "id": "2ddaf51d",
   "metadata": {},
   "outputs": [],
   "source": [
    "df.loc[df['Gearbox'].isna(), 'Gearbox'] = 'manual'"
   ]
  },
  {
   "cell_type": "markdown",
   "id": "6284e482",
   "metadata": {},
   "source": [
    "Посмотрим на мощность. Удалим выбибвающиеся значения."
   ]
  },
  {
   "cell_type": "code",
   "execution_count": 19,
   "id": "94c8298a",
   "metadata": {},
   "outputs": [
    {
     "data": {
      "text/html": [
       "<div>\n",
       "<style scoped>\n",
       "    .dataframe tbody tr th:only-of-type {\n",
       "        vertical-align: middle;\n",
       "    }\n",
       "\n",
       "    .dataframe tbody tr th {\n",
       "        vertical-align: top;\n",
       "    }\n",
       "\n",
       "    .dataframe thead th {\n",
       "        text-align: right;\n",
       "    }\n",
       "</style>\n",
       "<table border=\"1\" class=\"dataframe\">\n",
       "  <thead>\n",
       "    <tr style=\"text-align: right;\">\n",
       "      <th></th>\n",
       "      <th>Price</th>\n",
       "      <th>VehicleType</th>\n",
       "      <th>RegistrationYear</th>\n",
       "      <th>Gearbox</th>\n",
       "      <th>Power</th>\n",
       "      <th>Model</th>\n",
       "      <th>Kilometer</th>\n",
       "      <th>RegistrationMonth</th>\n",
       "      <th>FuelType</th>\n",
       "      <th>Brand</th>\n",
       "      <th>Repaired</th>\n",
       "      <th>DateCreated</th>\n",
       "      <th>PostalCode</th>\n",
       "    </tr>\n",
       "  </thead>\n",
       "  <tbody>\n",
       "    <tr>\n",
       "      <th>61819</th>\n",
       "      <td>3250</td>\n",
       "      <td>sedan</td>\n",
       "      <td>2001</td>\n",
       "      <td>auto</td>\n",
       "      <td>17932</td>\n",
       "      <td>omega</td>\n",
       "      <td>150000</td>\n",
       "      <td>6</td>\n",
       "      <td>petrol</td>\n",
       "      <td>opel</td>\n",
       "      <td>NaN</td>\n",
       "      <td>2016-03-28</td>\n",
       "      <td>86641</td>\n",
       "    </tr>\n",
       "    <tr>\n",
       "      <th>127972</th>\n",
       "      <td>2100</td>\n",
       "      <td>wagon</td>\n",
       "      <td>2001</td>\n",
       "      <td>manual</td>\n",
       "      <td>19208</td>\n",
       "      <td>5er</td>\n",
       "      <td>150000</td>\n",
       "      <td>5</td>\n",
       "      <td>NaN</td>\n",
       "      <td>bmw</td>\n",
       "      <td>yes</td>\n",
       "      <td>2016-03-25</td>\n",
       "      <td>59556</td>\n",
       "    </tr>\n",
       "    <tr>\n",
       "      <th>110226</th>\n",
       "      <td>9999</td>\n",
       "      <td>sedan</td>\n",
       "      <td>2006</td>\n",
       "      <td>manual</td>\n",
       "      <td>19211</td>\n",
       "      <td>1er</td>\n",
       "      <td>125000</td>\n",
       "      <td>0</td>\n",
       "      <td>gasoline</td>\n",
       "      <td>bmw</td>\n",
       "      <td>NaN</td>\n",
       "      <td>2016-04-03</td>\n",
       "      <td>45964</td>\n",
       "    </tr>\n",
       "    <tr>\n",
       "      <th>289029</th>\n",
       "      <td>1500</td>\n",
       "      <td>wagon</td>\n",
       "      <td>1997</td>\n",
       "      <td>manual</td>\n",
       "      <td>19312</td>\n",
       "      <td>5er</td>\n",
       "      <td>150000</td>\n",
       "      <td>1</td>\n",
       "      <td>NaN</td>\n",
       "      <td>bmw</td>\n",
       "      <td>no</td>\n",
       "      <td>2016-03-09</td>\n",
       "      <td>21129</td>\n",
       "    </tr>\n",
       "    <tr>\n",
       "      <th>212067</th>\n",
       "      <td>4300</td>\n",
       "      <td>coupe</td>\n",
       "      <td>1999</td>\n",
       "      <td>auto</td>\n",
       "      <td>20000</td>\n",
       "      <td>clk</td>\n",
       "      <td>150000</td>\n",
       "      <td>1</td>\n",
       "      <td>petrol</td>\n",
       "      <td>mercedes_benz</td>\n",
       "      <td>no</td>\n",
       "      <td>2016-03-09</td>\n",
       "      <td>19406</td>\n",
       "    </tr>\n",
       "  </tbody>\n",
       "</table>\n",
       "</div>"
      ],
      "text/plain": [
       "        Price VehicleType  RegistrationYear Gearbox  Power  Model  Kilometer  \\\n",
       "61819    3250       sedan              2001    auto  17932  omega     150000   \n",
       "127972   2100       wagon              2001  manual  19208    5er     150000   \n",
       "110226   9999       sedan              2006  manual  19211    1er     125000   \n",
       "289029   1500       wagon              1997  manual  19312    5er     150000   \n",
       "212067   4300       coupe              1999    auto  20000    clk     150000   \n",
       "\n",
       "        RegistrationMonth  FuelType          Brand Repaired DateCreated  \\\n",
       "61819                   6    petrol           opel      NaN  2016-03-28   \n",
       "127972                  5       NaN            bmw      yes  2016-03-25   \n",
       "110226                  0  gasoline            bmw      NaN  2016-04-03   \n",
       "289029                  1       NaN            bmw       no  2016-03-09   \n",
       "212067                  1    petrol  mercedes_benz       no  2016-03-09   \n",
       "\n",
       "        PostalCode  \n",
       "61819        86641  \n",
       "127972       59556  \n",
       "110226       45964  \n",
       "289029       21129  \n",
       "212067       19406  "
      ]
     },
     "execution_count": 19,
     "metadata": {},
     "output_type": "execute_result"
    }
   ],
   "source": [
    "df.sort_values('Power').tail()"
   ]
  },
  {
   "cell_type": "code",
   "execution_count": 20,
   "id": "fdf410bd",
   "metadata": {},
   "outputs": [
    {
     "data": {
      "text/plain": [
       "<AxesSubplot:>"
      ]
     },
     "execution_count": 20,
     "metadata": {},
     "output_type": "execute_result"
    },
    {
     "data": {
      "image/png": "[encoded data removed]",
      "text/plain": [
       "<Figure size 432x288 with 1 Axes>"
      ]
     },
     "metadata": {
      "needs_background": "light"
     },
     "output_type": "display_data"
    }
   ],
   "source": [
    "df[df['Power']<250].Power.plot.box(grid=True)"
   ]
  },
  {
   "cell_type": "code",
   "execution_count": 21,
   "id": "975695e2",
   "metadata": {},
   "outputs": [],
   "source": [
    "df = df[df['Power']<250].reset_index(drop=True)"
   ]
  },
  {
   "cell_type": "markdown",
   "id": "e884c921",
   "metadata": {},
   "source": [
    "Машины с 0-ой мощностью могут быть просто без двигателя, либо двигатель уже не подлежит восстановлению."
   ]
  },
  {
   "cell_type": "markdown",
   "id": "a235a1ba",
   "metadata": {},
   "source": [
    "Заполним пустые ячейки в колонке модель на название марки автомобиля. "
   ]
  },
  {
   "cell_type": "code",
   "execution_count": 22,
   "id": "52c217da",
   "metadata": {},
   "outputs": [],
   "source": [
    "df.loc[(df['Model'].isna())|(df['Model']=='other'), 'Model'] = df['Brand']"
   ]
  },
  {
   "cell_type": "markdown",
   "id": "d2c3cc5a",
   "metadata": {},
   "source": [
    "Посмотрим на пробег."
   ]
  },
  {
   "cell_type": "code",
   "execution_count": 23,
   "id": "bbace265",
   "metadata": {},
   "outputs": [
    {
     "data": {
      "text/plain": [
       "<AxesSubplot:>"
      ]
     },
     "execution_count": 23,
     "metadata": {},
     "output_type": "execute_result"
    },
    {
     "data": {
      "image/png": "[encoded data removed]",
      "text/plain": [
       "<Figure size 432x288 with 1 Axes>"
      ]
     },
     "metadata": {
      "needs_background": "light"
     },
     "output_type": "display_data"
    }
   ],
   "source": [
    "df.Kilometer.hist(bins=50)"
   ]
  },
  {
   "cell_type": "markdown",
   "id": "6919f0e2",
   "metadata": {},
   "source": [
    "Тут ничего неожиданного, в основном автомобили с большим пробегом."
   ]
  },
  {
   "cell_type": "markdown",
   "id": "c9dfda95",
   "metadata": {},
   "source": [
    "Посмотрим на месяц регистрации."
   ]
  },
  {
   "cell_type": "code",
   "execution_count": 24,
   "id": "6b481ec5",
   "metadata": {},
   "outputs": [
    {
     "data": {
      "text/plain": [
       "array([ 0,  5,  8,  6,  7, 10, 12, 11,  2,  3,  1,  4,  9], dtype=int64)"
      ]
     },
     "execution_count": 24,
     "metadata": {},
     "output_type": "execute_result"
    }
   ],
   "source": [
    "df.RegistrationMonth.unique()"
   ]
  },
  {
   "cell_type": "markdown",
   "id": "83ebe2f9",
   "metadata": {},
   "source": [
    "Видимо 0 означет пропуск."
   ]
  },
  {
   "cell_type": "markdown",
   "id": "d35fd931",
   "metadata": {},
   "source": [
    "Заполним пропуски в колонке топливо на other."
   ]
  },
  {
   "cell_type": "code",
   "execution_count": 25,
   "id": "d35cf475",
   "metadata": {},
   "outputs": [],
   "source": [
    "df.loc[df['FuelType'].isna(), 'FuelType'] = 'other'"
   ]
  },
  {
   "cell_type": "code",
   "execution_count": 26,
   "id": "12132a9c",
   "metadata": {},
   "outputs": [
    {
     "data": {
      "text/plain": [
       "<AxesSubplot:>"
      ]
     },
     "execution_count": 26,
     "metadata": {},
     "output_type": "execute_result"
    },
    {
     "data": {
      "image/png": "[encoded data removed]",
      "text/plain": [
       "<Figure size 432x288 with 1 Axes>"
      ]
     },
     "metadata": {
      "needs_background": "light"
     },
     "output_type": "display_data"
    }
   ],
   "source": [
    "df.FuelType.hist(bins=14)"
   ]
  },
  {
   "cell_type": "markdown",
   "id": "449f5125",
   "metadata": {},
   "source": [
    "Странно, что нет дизелей."
   ]
  },
  {
   "cell_type": "markdown",
   "id": "88489dce",
   "metadata": {},
   "source": [
    "Заполним пропуски в колонке Repaired на other(видимо, владелец не знает, была ли его машина в ремонте, или ремонт не значительный)."
   ]
  },
  {
   "cell_type": "code",
   "execution_count": 27,
   "id": "3380fb35",
   "metadata": {},
   "outputs": [
    {
     "data": {
      "text/plain": [
       "array([nan, 'yes', 'no'], dtype=object)"
      ]
     },
     "execution_count": 27,
     "metadata": {},
     "output_type": "execute_result"
    }
   ],
   "source": [
    "df.Repaired.unique()"
   ]
  },
  {
   "cell_type": "code",
   "execution_count": 28,
   "id": "f4c7555a",
   "metadata": {},
   "outputs": [],
   "source": [
    "df.loc[df['Repaired'].isna(), 'Repaired'] = 'other'"
   ]
  },
  {
   "cell_type": "markdown",
   "id": "026bf6d7",
   "metadata": {},
   "source": [
    "Изменим значения колонки DateCreated на количество дней от 2016-01-01"
   ]
  },
  {
   "cell_type": "code",
   "execution_count": 29,
   "id": "433079df",
   "metadata": {},
   "outputs": [],
   "source": [
    "df['DateCreated'] = (df['DateCreated'] - datetime(2016, 1, 1)).dt.days"
   ]
  },
  {
   "cell_type": "markdown",
   "id": "73f1819e",
   "metadata": {},
   "source": [
    "Посмотрим на почтовые индексы. Судя по всему, это данные из Германии. Зону определяют первые две цифры."
   ]
  },
  {
   "cell_type": "code",
   "execution_count": 30,
   "id": "653c559f",
   "metadata": {},
   "outputs": [
    {
     "data": {
      "text/html": [
       "<div>\n",
       "<style scoped>\n",
       "    .dataframe tbody tr th:only-of-type {\n",
       "        vertical-align: middle;\n",
       "    }\n",
       "\n",
       "    .dataframe tbody tr th {\n",
       "        vertical-align: top;\n",
       "    }\n",
       "\n",
       "    .dataframe thead th {\n",
       "        text-align: right;\n",
       "    }\n",
       "</style>\n",
       "<table border=\"1\" class=\"dataframe\">\n",
       "  <thead>\n",
       "    <tr style=\"text-align: right;\">\n",
       "      <th></th>\n",
       "      <th>Price</th>\n",
       "    </tr>\n",
       "    <tr>\n",
       "      <th>PostalCode</th>\n",
       "      <th></th>\n",
       "    </tr>\n",
       "  </thead>\n",
       "  <tbody>\n",
       "    <tr>\n",
       "      <th>10115</th>\n",
       "      <td>732</td>\n",
       "    </tr>\n",
       "    <tr>\n",
       "      <th>65428</th>\n",
       "      <td>555</td>\n",
       "    </tr>\n",
       "    <tr>\n",
       "      <th>66333</th>\n",
       "      <td>303</td>\n",
       "    </tr>\n",
       "    <tr>\n",
       "      <th>32257</th>\n",
       "      <td>276</td>\n",
       "    </tr>\n",
       "    <tr>\n",
       "      <th>44145</th>\n",
       "      <td>270</td>\n",
       "    </tr>\n",
       "  </tbody>\n",
       "</table>\n",
       "</div>"
      ],
      "text/plain": [
       "            Price\n",
       "PostalCode       \n",
       "10115         732\n",
       "65428         555\n",
       "66333         303\n",
       "32257         276\n",
       "44145         270"
      ]
     },
     "execution_count": 30,
     "metadata": {},
     "output_type": "execute_result"
    }
   ],
   "source": [
    "df.pivot_table(index='PostalCode', values='Price', aggfunc='count').sort_values('Price',ascending=False).head()"
   ]
  },
  {
   "cell_type": "code",
   "execution_count": 31,
   "id": "3efc1361",
   "metadata": {},
   "outputs": [],
   "source": [
    "df['PostalCode'] = df['PostalCode']//1000"
   ]
  },
  {
   "cell_type": "code",
   "execution_count": 32,
   "id": "0b0e6e53",
   "metadata": {
    "scrolled": true
   },
   "outputs": [
    {
     "data": {
      "text/html": [
       "<div>\n",
       "<style scoped>\n",
       "    .dataframe tbody tr th:only-of-type {\n",
       "        vertical-align: middle;\n",
       "    }\n",
       "\n",
       "    .dataframe tbody tr th {\n",
       "        vertical-align: top;\n",
       "    }\n",
       "\n",
       "    .dataframe thead th {\n",
       "        text-align: right;\n",
       "    }\n",
       "</style>\n",
       "<table border=\"1\" class=\"dataframe\">\n",
       "  <thead>\n",
       "    <tr style=\"text-align: right;\">\n",
       "      <th></th>\n",
       "      <th>Price</th>\n",
       "    </tr>\n",
       "    <tr>\n",
       "      <th>PostalCode</th>\n",
       "      <th></th>\n",
       "    </tr>\n",
       "  </thead>\n",
       "  <tbody>\n",
       "    <tr>\n",
       "      <th>45</th>\n",
       "      <td>7417</td>\n",
       "    </tr>\n",
       "    <tr>\n",
       "      <th>26</th>\n",
       "      <td>6625</td>\n",
       "    </tr>\n",
       "    <tr>\n",
       "      <th>65</th>\n",
       "      <td>6385</td>\n",
       "    </tr>\n",
       "    <tr>\n",
       "      <th>66</th>\n",
       "      <td>6354</td>\n",
       "    </tr>\n",
       "    <tr>\n",
       "      <th>44</th>\n",
       "      <td>5797</td>\n",
       "    </tr>\n",
       "  </tbody>\n",
       "</table>\n",
       "</div>"
      ],
      "text/plain": [
       "            Price\n",
       "PostalCode       \n",
       "45           7417\n",
       "26           6625\n",
       "65           6385\n",
       "66           6354\n",
       "44           5797"
      ]
     },
     "execution_count": 32,
     "metadata": {},
     "output_type": "execute_result"
    }
   ],
   "source": [
    "df.pivot_table(index='PostalCode', values='Price', aggfunc='count').sort_values('Price',ascending=False).head()"
   ]
  },
  {
   "cell_type": "code",
   "execution_count": 33,
   "id": "74820a46",
   "metadata": {},
   "outputs": [
    {
     "name": "stdout",
     "output_type": "stream",
     "text": [
      "interval columns not set, guessing: ['Price', 'RegistrationYear', 'Power', 'Kilometer', 'RegistrationMonth', 'DateCreated', 'PostalCode']\n",
      "interval columns not set, guessing: ['Price', 'RegistrationYear', 'Power', 'Kilometer', 'RegistrationMonth', 'DateCreated', 'PostalCode']\n"
     ]
    },
    {
     "data": {
      "text/html": [
       "<div>\n",
       "<style scoped>\n",
       "    .dataframe tbody tr th:only-of-type {\n",
       "        vertical-align: middle;\n",
       "    }\n",
       "\n",
       "    .dataframe tbody tr th {\n",
       "        vertical-align: top;\n",
       "    }\n",
       "\n",
       "    .dataframe thead th {\n",
       "        text-align: right;\n",
       "    }\n",
       "</style>\n",
       "<table border=\"1\" class=\"dataframe\">\n",
       "  <thead>\n",
       "    <tr style=\"text-align: right;\">\n",
       "      <th></th>\n",
       "      <th>Price</th>\n",
       "      <th>VehicleType</th>\n",
       "      <th>RegistrationYear</th>\n",
       "      <th>Gearbox</th>\n",
       "      <th>Power</th>\n",
       "      <th>Model</th>\n",
       "      <th>Kilometer</th>\n",
       "      <th>RegistrationMonth</th>\n",
       "      <th>FuelType</th>\n",
       "      <th>Brand</th>\n",
       "      <th>Repaired</th>\n",
       "      <th>DateCreated</th>\n",
       "      <th>PostalCode</th>\n",
       "    </tr>\n",
       "  </thead>\n",
       "  <tbody>\n",
       "    <tr>\n",
       "      <th>Price</th>\n",
       "      <td>1.000000</td>\n",
       "      <td>0.281572</td>\n",
       "      <td>0.708455</td>\n",
       "      <td>0.304666</td>\n",
       "      <td>0.498789</td>\n",
       "      <td>0.582442</td>\n",
       "      <td>0.329855</td>\n",
       "      <td>0.160973</td>\n",
       "      <td>0.292904</td>\n",
       "      <td>0.355065</td>\n",
       "      <td>0.357558</td>\n",
       "      <td>0.030457</td>\n",
       "      <td>0.090527</td>\n",
       "    </tr>\n",
       "    <tr>\n",
       "      <th>VehicleType</th>\n",
       "      <td>0.281572</td>\n",
       "      <td>1.000000</td>\n",
       "      <td>0.421529</td>\n",
       "      <td>0.268064</td>\n",
       "      <td>0.525235</td>\n",
       "      <td>0.910068</td>\n",
       "      <td>0.176278</td>\n",
       "      <td>0.185712</td>\n",
       "      <td>0.407518</td>\n",
       "      <td>0.624478</td>\n",
       "      <td>0.300771</td>\n",
       "      <td>0.022517</td>\n",
       "      <td>0.067741</td>\n",
       "    </tr>\n",
       "    <tr>\n",
       "      <th>RegistrationYear</th>\n",
       "      <td>0.708455</td>\n",
       "      <td>0.421529</td>\n",
       "      <td>1.000000</td>\n",
       "      <td>0.128608</td>\n",
       "      <td>0.311061</td>\n",
       "      <td>0.632852</td>\n",
       "      <td>0.443138</td>\n",
       "      <td>0.163501</td>\n",
       "      <td>0.317126</td>\n",
       "      <td>0.348361</td>\n",
       "      <td>0.273769</td>\n",
       "      <td>0.017260</td>\n",
       "      <td>0.083345</td>\n",
       "    </tr>\n",
       "    <tr>\n",
       "      <th>Gearbox</th>\n",
       "      <td>0.304666</td>\n",
       "      <td>0.268064</td>\n",
       "      <td>0.128608</td>\n",
       "      <td>1.000000</td>\n",
       "      <td>0.527494</td>\n",
       "      <td>0.606901</td>\n",
       "      <td>0.011454</td>\n",
       "      <td>0.056192</td>\n",
       "      <td>0.161019</td>\n",
       "      <td>0.481246</td>\n",
       "      <td>0.033404</td>\n",
       "      <td>0.005350</td>\n",
       "      <td>0.093277</td>\n",
       "    </tr>\n",
       "    <tr>\n",
       "      <th>Power</th>\n",
       "      <td>0.498789</td>\n",
       "      <td>0.525235</td>\n",
       "      <td>0.311061</td>\n",
       "      <td>0.527494</td>\n",
       "      <td>1.000000</td>\n",
       "      <td>0.796158</td>\n",
       "      <td>0.122467</td>\n",
       "      <td>0.232079</td>\n",
       "      <td>0.302185</td>\n",
       "      <td>0.589810</td>\n",
       "      <td>0.332351</td>\n",
       "      <td>0.010493</td>\n",
       "      <td>0.106877</td>\n",
       "    </tr>\n",
       "    <tr>\n",
       "      <th>Model</th>\n",
       "      <td>0.582442</td>\n",
       "      <td>0.910068</td>\n",
       "      <td>0.632852</td>\n",
       "      <td>0.606901</td>\n",
       "      <td>0.796158</td>\n",
       "      <td>1.000000</td>\n",
       "      <td>0.453590</td>\n",
       "      <td>0.171667</td>\n",
       "      <td>0.568185</td>\n",
       "      <td>0.999942</td>\n",
       "      <td>0.285145</td>\n",
       "      <td>0.056483</td>\n",
       "      <td>0.222393</td>\n",
       "    </tr>\n",
       "    <tr>\n",
       "      <th>Kilometer</th>\n",
       "      <td>0.329855</td>\n",
       "      <td>0.176278</td>\n",
       "      <td>0.443138</td>\n",
       "      <td>0.011454</td>\n",
       "      <td>0.122467</td>\n",
       "      <td>0.453590</td>\n",
       "      <td>1.000000</td>\n",
       "      <td>0.056759</td>\n",
       "      <td>0.153147</td>\n",
       "      <td>0.272378</td>\n",
       "      <td>0.235997</td>\n",
       "      <td>0.013981</td>\n",
       "      <td>0.038970</td>\n",
       "    </tr>\n",
       "    <tr>\n",
       "      <th>RegistrationMonth</th>\n",
       "      <td>0.160973</td>\n",
       "      <td>0.185712</td>\n",
       "      <td>0.163501</td>\n",
       "      <td>0.056192</td>\n",
       "      <td>0.232079</td>\n",
       "      <td>0.171667</td>\n",
       "      <td>0.056759</td>\n",
       "      <td>1.000000</td>\n",
       "      <td>0.190871</td>\n",
       "      <td>0.087265</td>\n",
       "      <td>0.274919</td>\n",
       "      <td>0.019824</td>\n",
       "      <td>0.045266</td>\n",
       "    </tr>\n",
       "    <tr>\n",
       "      <th>FuelType</th>\n",
       "      <td>0.292904</td>\n",
       "      <td>0.407518</td>\n",
       "      <td>0.317126</td>\n",
       "      <td>0.161019</td>\n",
       "      <td>0.302185</td>\n",
       "      <td>0.568185</td>\n",
       "      <td>0.153147</td>\n",
       "      <td>0.190871</td>\n",
       "      <td>1.000000</td>\n",
       "      <td>0.296489</td>\n",
       "      <td>0.244765</td>\n",
       "      <td>0.012302</td>\n",
       "      <td>0.054603</td>\n",
       "    </tr>\n",
       "    <tr>\n",
       "      <th>Brand</th>\n",
       "      <td>0.355065</td>\n",
       "      <td>0.624478</td>\n",
       "      <td>0.348361</td>\n",
       "      <td>0.481246</td>\n",
       "      <td>0.589810</td>\n",
       "      <td>0.999942</td>\n",
       "      <td>0.272378</td>\n",
       "      <td>0.087265</td>\n",
       "      <td>0.296489</td>\n",
       "      <td>1.000000</td>\n",
       "      <td>0.148139</td>\n",
       "      <td>0.024703</td>\n",
       "      <td>0.172623</td>\n",
       "    </tr>\n",
       "    <tr>\n",
       "      <th>Repaired</th>\n",
       "      <td>0.357558</td>\n",
       "      <td>0.300771</td>\n",
       "      <td>0.273769</td>\n",
       "      <td>0.033404</td>\n",
       "      <td>0.332351</td>\n",
       "      <td>0.285145</td>\n",
       "      <td>0.235997</td>\n",
       "      <td>0.274919</td>\n",
       "      <td>0.244765</td>\n",
       "      <td>0.148139</td>\n",
       "      <td>1.000000</td>\n",
       "      <td>0.010252</td>\n",
       "      <td>0.060887</td>\n",
       "    </tr>\n",
       "    <tr>\n",
       "      <th>DateCreated</th>\n",
       "      <td>0.030457</td>\n",
       "      <td>0.022517</td>\n",
       "      <td>0.017260</td>\n",
       "      <td>0.005350</td>\n",
       "      <td>0.010493</td>\n",
       "      <td>0.056483</td>\n",
       "      <td>0.013981</td>\n",
       "      <td>0.019824</td>\n",
       "      <td>0.012302</td>\n",
       "      <td>0.024703</td>\n",
       "      <td>0.010252</td>\n",
       "      <td>1.000000</td>\n",
       "      <td>0.034132</td>\n",
       "    </tr>\n",
       "    <tr>\n",
       "      <th>PostalCode</th>\n",
       "      <td>0.090527</td>\n",
       "      <td>0.067741</td>\n",
       "      <td>0.083345</td>\n",
       "      <td>0.093277</td>\n",
       "      <td>0.106877</td>\n",
       "      <td>0.222393</td>\n",
       "      <td>0.038970</td>\n",
       "      <td>0.045266</td>\n",
       "      <td>0.054603</td>\n",
       "      <td>0.172623</td>\n",
       "      <td>0.060887</td>\n",
       "      <td>0.034132</td>\n",
       "      <td>1.000000</td>\n",
       "    </tr>\n",
       "  </tbody>\n",
       "</table>\n",
       "</div>"
      ],
      "text/plain": [
       "                      Price  VehicleType  RegistrationYear   Gearbox  \\\n",
       "Price              1.000000     0.281572          0.708455  0.304666   \n",
       "VehicleType        0.281572     1.000000          0.421529  0.268064   \n",
       "RegistrationYear   0.708455     0.421529          1.000000  0.128608   \n",
       "Gearbox            0.304666     0.268064          0.128608  1.000000   \n",
       "Power              0.498789     0.525235          0.311061  0.527494   \n",
       "Model              0.582442     0.910068          0.632852  0.606901   \n",
       "Kilometer          0.329855     0.176278          0.443138  0.011454   \n",
       "RegistrationMonth  0.160973     0.185712          0.163501  0.056192   \n",
       "FuelType           0.292904     0.407518          0.317126  0.161019   \n",
       "Brand              0.355065     0.624478          0.348361  0.481246   \n",
       "Repaired           0.357558     0.300771          0.273769  0.033404   \n",
       "DateCreated        0.030457     0.022517          0.017260  0.005350   \n",
       "PostalCode         0.090527     0.067741          0.083345  0.093277   \n",
       "\n",
       "                      Power     Model  Kilometer  RegistrationMonth  FuelType  \\\n",
       "Price              0.498789  0.582442   0.329855           0.160973  0.292904   \n",
       "VehicleType        0.525235  0.910068   0.176278           0.185712  0.407518   \n",
       "RegistrationYear   0.311061  0.632852   0.443138           0.163501  0.317126   \n",
       "Gearbox            0.527494  0.606901   0.011454           0.056192  0.161019   \n",
       "Power              1.000000  0.796158   0.122467           0.232079  0.302185   \n",
       "Model              0.796158  1.000000   0.453590           0.171667  0.568185   \n",
       "Kilometer          0.122467  0.453590   1.000000           0.056759  0.153147   \n",
       "RegistrationMonth  0.232079  0.171667   0.056759           1.000000  0.190871   \n",
       "FuelType           0.302185  0.568185   0.153147           0.190871  1.000000   \n",
       "Brand              0.589810  0.999942   0.272378           0.087265  0.296489   \n",
       "Repaired           0.332351  0.285145   0.235997           0.274919  0.244765   \n",
       "DateCreated        0.010493  0.056483   0.013981           0.019824  0.012302   \n",
       "PostalCode         0.106877  0.222393   0.038970           0.045266  0.054603   \n",
       "\n",
       "                      Brand  Repaired  DateCreated  PostalCode  \n",
       "Price              0.355065  0.357558     0.030457    0.090527  \n",
       "VehicleType        0.624478  0.300771     0.022517    0.067741  \n",
       "RegistrationYear   0.348361  0.273769     0.017260    0.083345  \n",
       "Gearbox            0.481246  0.033404     0.005350    0.093277  \n",
       "Power              0.589810  0.332351     0.010493    0.106877  \n",
       "Model              0.999942  0.285145     0.056483    0.222393  \n",
       "Kilometer          0.272378  0.235997     0.013981    0.038970  \n",
       "RegistrationMonth  0.087265  0.274919     0.019824    0.045266  \n",
       "FuelType           0.296489  0.244765     0.012302    0.054603  \n",
       "Brand              1.000000  0.148139     0.024703    0.172623  \n",
       "Repaired           0.148139  1.000000     0.010252    0.060887  \n",
       "DateCreated        0.024703  0.010252     1.000000    0.034132  \n",
       "PostalCode         0.172623  0.060887     0.034132    1.000000  "
      ]
     },
     "execution_count": 33,
     "metadata": {},
     "output_type": "execute_result"
    },
    {
     "data": {
      "image/png": "[encoded data removed]",
      "text/plain": [
       "<Figure size 432x288 with 2 Axes>"
      ]
     },
     "metadata": {
      "needs_background": "light"
     },
     "output_type": "display_data"
    }
   ],
   "source": [
    "sns.heatmap(df.phik_matrix())\n",
    "df.phik_matrix()"
   ]
  },
  {
   "cell_type": "markdown",
   "id": "83e59fd8",
   "metadata": {},
   "source": [
    "Удалим дубликаты."
   ]
  },
  {
   "cell_type": "code",
   "execution_count": 34,
   "id": "78781c5e",
   "metadata": {},
   "outputs": [],
   "source": [
    "df = df.drop_duplicates().reset_index(drop=True)"
   ]
  },
  {
   "cell_type": "code",
   "execution_count": 35,
   "id": "d19b6138",
   "metadata": {
    "scrolled": true
   },
   "outputs": [
    {
     "data": {
      "text/html": [
       "<div>\n",
       "<style scoped>\n",
       "    .dataframe tbody tr th:only-of-type {\n",
       "        vertical-align: middle;\n",
       "    }\n",
       "\n",
       "    .dataframe tbody tr th {\n",
       "        vertical-align: top;\n",
       "    }\n",
       "\n",
       "    .dataframe thead th {\n",
       "        text-align: right;\n",
       "    }\n",
       "</style>\n",
       "<table border=\"1\" class=\"dataframe\">\n",
       "  <thead>\n",
       "    <tr style=\"text-align: right;\">\n",
       "      <th></th>\n",
       "      <th>Price</th>\n",
       "      <th>RegistrationYear</th>\n",
       "      <th>Power</th>\n",
       "      <th>Kilometer</th>\n",
       "      <th>RegistrationMonth</th>\n",
       "      <th>DateCreated</th>\n",
       "      <th>PostalCode</th>\n",
       "    </tr>\n",
       "  </thead>\n",
       "  <tbody>\n",
       "    <tr>\n",
       "      <th>count</th>\n",
       "      <td>305134.000000</td>\n",
       "      <td>305134.000000</td>\n",
       "      <td>305134.000000</td>\n",
       "      <td>305134.000000</td>\n",
       "      <td>305134.000000</td>\n",
       "      <td>305134.000000</td>\n",
       "      <td>305134.000000</td>\n",
       "    </tr>\n",
       "    <tr>\n",
       "      <th>mean</th>\n",
       "      <td>4424.803624</td>\n",
       "      <td>2003.074056</td>\n",
       "      <td>104.631460</td>\n",
       "      <td>128755.956399</td>\n",
       "      <td>5.830006</td>\n",
       "      <td>79.802585</td>\n",
       "      <td>50.360333</td>\n",
       "    </tr>\n",
       "    <tr>\n",
       "      <th>std</th>\n",
       "      <td>4394.973656</td>\n",
       "      <td>5.778100</td>\n",
       "      <td>55.135931</td>\n",
       "      <td>36972.584162</td>\n",
       "      <td>3.679450</td>\n",
       "      <td>9.203316</td>\n",
       "      <td>25.779952</td>\n",
       "    </tr>\n",
       "    <tr>\n",
       "      <th>min</th>\n",
       "      <td>2.000000</td>\n",
       "      <td>1987.000000</td>\n",
       "      <td>0.000000</td>\n",
       "      <td>5000.000000</td>\n",
       "      <td>0.000000</td>\n",
       "      <td>1.000000</td>\n",
       "      <td>1.000000</td>\n",
       "    </tr>\n",
       "    <tr>\n",
       "      <th>25%</th>\n",
       "      <td>1199.000000</td>\n",
       "      <td>1999.000000</td>\n",
       "      <td>70.000000</td>\n",
       "      <td>125000.000000</td>\n",
       "      <td>3.000000</td>\n",
       "      <td>72.000000</td>\n",
       "      <td>30.000000</td>\n",
       "    </tr>\n",
       "    <tr>\n",
       "      <th>50%</th>\n",
       "      <td>2800.000000</td>\n",
       "      <td>2003.000000</td>\n",
       "      <td>105.000000</td>\n",
       "      <td>150000.000000</td>\n",
       "      <td>6.000000</td>\n",
       "      <td>80.000000</td>\n",
       "      <td>49.000000</td>\n",
       "    </tr>\n",
       "    <tr>\n",
       "      <th>75%</th>\n",
       "      <td>6300.000000</td>\n",
       "      <td>2007.000000</td>\n",
       "      <td>140.000000</td>\n",
       "      <td>150000.000000</td>\n",
       "      <td>9.000000</td>\n",
       "      <td>88.000000</td>\n",
       "      <td>71.000000</td>\n",
       "    </tr>\n",
       "    <tr>\n",
       "      <th>max</th>\n",
       "      <td>20000.000000</td>\n",
       "      <td>2016.000000</td>\n",
       "      <td>249.000000</td>\n",
       "      <td>150000.000000</td>\n",
       "      <td>12.000000</td>\n",
       "      <td>97.000000</td>\n",
       "      <td>99.000000</td>\n",
       "    </tr>\n",
       "  </tbody>\n",
       "</table>\n",
       "</div>"
      ],
      "text/plain": [
       "               Price  RegistrationYear          Power      Kilometer  \\\n",
       "count  305134.000000     305134.000000  305134.000000  305134.000000   \n",
       "mean     4424.803624       2003.074056     104.631460  128755.956399   \n",
       "std      4394.973656          5.778100      55.135931   36972.584162   \n",
       "min         2.000000       1987.000000       0.000000    5000.000000   \n",
       "25%      1199.000000       1999.000000      70.000000  125000.000000   \n",
       "50%      2800.000000       2003.000000     105.000000  150000.000000   \n",
       "75%      6300.000000       2007.000000     140.000000  150000.000000   \n",
       "max     20000.000000       2016.000000     249.000000  150000.000000   \n",
       "\n",
       "       RegistrationMonth    DateCreated     PostalCode  \n",
       "count      305134.000000  305134.000000  305134.000000  \n",
       "mean            5.830006      79.802585      50.360333  \n",
       "std             3.679450       9.203316      25.779952  \n",
       "min             0.000000       1.000000       1.000000  \n",
       "25%             3.000000      72.000000      30.000000  \n",
       "50%             6.000000      80.000000      49.000000  \n",
       "75%             9.000000      88.000000      71.000000  \n",
       "max            12.000000      97.000000      99.000000  "
      ]
     },
     "execution_count": 35,
     "metadata": {},
     "output_type": "execute_result"
    }
   ],
   "source": [
    "df.describe()"
   ]
  },
  {
   "cell_type": "markdown",
   "id": "c6446a67",
   "metadata": {},
   "source": [
    "## Обучение моделей"
   ]
  },
  {
   "cell_type": "markdown",
   "id": "a2330875",
   "metadata": {},
   "source": [
    "### Линейная модель\n",
    "Заменим категориальные признаки "
   ]
  },
  {
   "cell_type": "code",
   "execution_count": 36,
   "id": "8b01050e",
   "metadata": {},
   "outputs": [],
   "source": [
    "df[['RegistrationMonth', 'PostalCode']] = df[['RegistrationMonth', 'PostalCode']].astype(str)"
   ]
  },
  {
   "cell_type": "code",
   "execution_count": 37,
   "id": "88fbb229",
   "metadata": {},
   "outputs": [],
   "source": [
    "target = df['Price']\n",
    "features = df.drop(['Price'] , axis=1)\n",
    "features_train_1, features_test, target_train_1, target_test = train_test_split(\n",
    "    features, target, test_size=0.1, random_state=12345)\n",
    "features_train, features_valid, target_train, target_valid = train_test_split(\n",
    "    features_train_1, target_train_1, test_size=0.2, random_state=12345)"
   ]
  },
  {
   "cell_type": "code",
   "execution_count": 38,
   "id": "6c466c84",
   "metadata": {},
   "outputs": [],
   "source": [
    "ohe = OneHotEncoder(drop='first')\n",
    "ohe.fit(features_train.select_dtypes('object'))\n",
    "X_train = (features_train.select_dtypes('int64').reset_index(drop=True)\n",
    "    .join(pd.DataFrame(ohe.transform(features_train.select_dtypes('object')).toarray())))\n",
    "X_train.columns = X_train.columns.astype('str')\n",
    "model_lin = Ridge()"
   ]
  },
  {
   "cell_type": "code",
   "execution_count": 39,
   "id": "bc25bc7c",
   "metadata": {
    "scrolled": true
   },
   "outputs": [
    {
     "name": "stdout",
     "output_type": "stream",
     "text": [
      "CPU times: total: 8.44 s\n",
      "Wall time: 2.46 s\n"
     ]
    },
    {
     "data": {
      "text/plain": [
       "Ridge()"
      ]
     },
     "execution_count": 39,
     "metadata": {},
     "output_type": "execute_result"
    }
   ],
   "source": [
    "%%time\n",
    "model_lin.fit(X_train, target_train)"
   ]
  },
  {
   "cell_type": "markdown",
   "id": "b882f948",
   "metadata": {},
   "source": [
    "Отрицательные предсказания заменим на 0."
   ]
  },
  {
   "cell_type": "code",
   "execution_count": 40,
   "id": "eccf8190",
   "metadata": {},
   "outputs": [],
   "source": [
    "X_valid = (features_valid.select_dtypes('int64').reset_index(drop=True)\n",
    "    .join(pd.DataFrame(ohe.transform(features_valid.select_dtypes('object')).toarray())))\n",
    "X_valid.columns = X_valid.columns.astype('str')"
   ]
  },
  {
   "cell_type": "code",
   "execution_count": 41,
   "id": "877a0320",
   "metadata": {},
   "outputs": [
    {
     "name": "stdout",
     "output_type": "stream",
     "text": [
      "CPU times: total: 93.8 ms\n",
      "Wall time: 88.7 ms\n"
     ]
    }
   ],
   "source": [
    "%%time\n",
    "pred = model_lin.predict(X_valid)"
   ]
  },
  {
   "cell_type": "code",
   "execution_count": 42,
   "id": "92eefc49",
   "metadata": {},
   "outputs": [
    {
     "data": {
      "text/plain": [
       "2317.3208575943577"
      ]
     },
     "execution_count": 42,
     "metadata": {},
     "output_type": "execute_result"
    }
   ],
   "source": [
    "pred_lin = pd.Series(pred, name='pred_lin')\n",
    "pred_lin[pred_lin<0] = 0\n",
    "mean_squared_error(pred_lin, target_valid, squared=False)"
   ]
  },
  {
   "cell_type": "code",
   "execution_count": 43,
   "id": "39a04102",
   "metadata": {},
   "outputs": [],
   "source": [
    "lin_parameters = {'fit':8, 'predict': 0.11, 'RMSE': 2317}"
   ]
  },
  {
   "cell_type": "markdown",
   "id": "dc9a362a",
   "metadata": {},
   "source": [
    "Линейная модель справилась довольно быстро и результат удовлетворяет поставленной задаче."
   ]
  },
  {
   "cell_type": "code",
   "execution_count": 44,
   "id": "f48dc273",
   "metadata": {},
   "outputs": [],
   "source": [
    "del (X_train, X_valid)"
   ]
  },
  {
   "cell_type": "markdown",
   "id": "954b0d66",
   "metadata": {},
   "source": [
    "### Случайный лес\n",
    "Применим порядковое кодирование."
   ]
  },
  {
   "cell_type": "code",
   "execution_count": 45,
   "id": "d75b4309",
   "metadata": {},
   "outputs": [],
   "source": [
    "target = df['Price']\n",
    "features = df.drop(['Price'] , axis=1)\n",
    "features_train_1, features_test, target_train_1, target_test = train_test_split(\n",
    "    features, target, test_size=0.1, random_state=12345)\n",
    "features_train, features_valid, target_train, target_valid = train_test_split(\n",
    "    features_train_1, target_train_1, test_size=0.2, random_state=12345)"
   ]
  },
  {
   "cell_type": "code",
   "execution_count": 46,
   "id": "8bf82658",
   "metadata": {},
   "outputs": [],
   "source": [
    "oe = OrdinalEncoder(handle_unknown='use_encoded_value', unknown_value=-1)"
   ]
  },
  {
   "cell_type": "code",
   "execution_count": 47,
   "id": "d9cf8c81",
   "metadata": {},
   "outputs": [],
   "source": [
    "features_train = (features_train.select_dtypes('int64').reset_index(drop=True)\n",
    "        .join(pd.DataFrame(oe.fit_transform(features_train.select_dtypes('object')), \n",
    "              columns=features_train.select_dtypes('object').columns)))\n",
    "model_forest = RandomForestRegressor(max_depth = 12, n_estimators=15, random_state=12345)"
   ]
  },
  {
   "cell_type": "code",
   "execution_count": 48,
   "id": "969c1428",
   "metadata": {},
   "outputs": [
    {
     "name": "stdout",
     "output_type": "stream",
     "text": [
      "CPU times: total: 7.47 s\n",
      "Wall time: 7.48 s\n"
     ]
    },
    {
     "data": {
      "text/plain": [
       "RandomForestRegressor(max_depth=12, n_estimators=15, random_state=12345)"
      ]
     },
     "execution_count": 48,
     "metadata": {},
     "output_type": "execute_result"
    }
   ],
   "source": [
    "%%time\n",
    "model_forest.fit(features_train, target_train)"
   ]
  },
  {
   "cell_type": "code",
   "execution_count": 49,
   "id": "68881bbc",
   "metadata": {},
   "outputs": [],
   "source": [
    "features_valid = (features_valid.select_dtypes('int64').reset_index(drop=True)\n",
    "        .join(pd.DataFrame(oe.transform(features_valid.select_dtypes('object')), \n",
    "              columns=features_valid.select_dtypes('object').columns)))"
   ]
  },
  {
   "cell_type": "code",
   "execution_count": 50,
   "id": "38ecb56e",
   "metadata": {},
   "outputs": [
    {
     "name": "stdout",
     "output_type": "stream",
     "text": [
      "CPU times: total: 93.8 ms\n",
      "Wall time: 99.9 ms\n"
     ]
    }
   ],
   "source": [
    "%%time\n",
    "pred_forest = model_forest.predict(features_valid)"
   ]
  },
  {
   "cell_type": "code",
   "execution_count": 51,
   "id": "0210f28e",
   "metadata": {},
   "outputs": [],
   "source": [
    "pred_forest = pd.Series(pred_forest, name='pred_forest')"
   ]
  },
  {
   "cell_type": "code",
   "execution_count": 52,
   "id": "7c4f87e7",
   "metadata": {
    "scrolled": true
   },
   "outputs": [
    {
     "data": {
      "text/plain": [
       "1657.8167124279323"
      ]
     },
     "execution_count": 52,
     "metadata": {},
     "output_type": "execute_result"
    }
   ],
   "source": [
    "mean_squared_error(pred_forest, target_valid, squared=False)"
   ]
  },
  {
   "cell_type": "code",
   "execution_count": 53,
   "id": "ad41f0da",
   "metadata": {},
   "outputs": [],
   "source": [
    "forest_parameters = {'fit':7.5, 'predict': 0.09, 'RMSE': 1658}"
   ]
  },
  {
   "cell_type": "code",
   "execution_count": 54,
   "id": "fd5f7289",
   "metadata": {},
   "outputs": [],
   "source": [
    "forest_bf = pd.Series(model_forest.feature_importances_, index=features_train.columns, name='forest')"
   ]
  },
  {
   "cell_type": "code",
   "execution_count": 55,
   "id": "b0426105",
   "metadata": {},
   "outputs": [
    {
     "data": {
      "image/png": "[encoded data removed]",
      "text/plain": [
       "<Figure size 1080x360 with 1 Axes>"
      ]
     },
     "metadata": {
      "needs_background": "light"
     },
     "output_type": "display_data"
    }
   ],
   "source": [
    "plt.figure(figsize=(15,5))\n",
    "plt.barh(features_train.columns, model_forest.feature_importances_)\n",
    "plt.grid(axis='x')"
   ]
  },
  {
   "cell_type": "markdown",
   "id": "ee94c808",
   "metadata": {},
   "source": [
    "Не подбирая долго параметры, уже удалось получить более высокую точность предсказания и высокую скорость обучения модели.\n",
    "\n",
    "Добавив категориальные признаки и усложнив модель можно получить более высокие результаты, но модель будет обучаться дольше."
   ]
  },
  {
   "cell_type": "code",
   "execution_count": 56,
   "id": "239f40d4",
   "metadata": {},
   "outputs": [],
   "source": [
    "del (features_train, features_valid)"
   ]
  },
  {
   "cell_type": "markdown",
   "id": "5c7491a5",
   "metadata": {},
   "source": [
    "### CatBoost"
   ]
  },
  {
   "cell_type": "code",
   "execution_count": 57,
   "id": "4c3950c7",
   "metadata": {},
   "outputs": [],
   "source": [
    "y = df['Price']\n",
    "X = df.drop(['Price','PostalCode'] , axis=1)\n",
    "X_train, X_test, y_train, y_test = train_test_split(\n",
    "    X, y, test_size=0.1, random_state=12345)"
   ]
  },
  {
   "cell_type": "markdown",
   "id": "e8331de8",
   "metadata": {},
   "source": [
    "Попробуем подобрать параметры."
   ]
  },
  {
   "cell_type": "code",
   "execution_count": 58,
   "id": "477cfc3b",
   "metadata": {},
   "outputs": [],
   "source": [
    "grid = {'learning_rate': [0.3, 0.4, 0.5, 0.6],\n",
    "        'depth': [ 8, 10, 12],\n",
    "        'iterations': [100,200, 300]}"
   ]
  },
  {
   "cell_type": "code",
   "execution_count": 59,
   "id": "9778f27d",
   "metadata": {},
   "outputs": [],
   "source": [
    "p = Pool(X_train,y_train, cat_features=X.select_dtypes('object').columns.values)"
   ]
  },
  {
   "cell_type": "code",
   "execution_count": 60,
   "id": "31c2037e",
   "metadata": {},
   "outputs": [],
   "source": [
    "model_cat = CatBoostRegressor(verbose=100)"
   ]
  },
  {
   "cell_type": "code",
   "execution_count": 61,
   "id": "092cf44d",
   "metadata": {
    "scrolled": true
   },
   "outputs": [
    {
     "name": "stdout",
     "output_type": "stream",
     "text": [
      "CPU times: total: 0 ns\n",
      "Wall time: 0 ns\n"
     ]
    }
   ],
   "source": [
    "%%time\n",
    "model_cat.grid_search(grid, p, train_size=0.9, plot=True)"
   ]
  },
  {
   "cell_type": "code",
   "execution_count": 62,
   "id": "06828c4a",
   "metadata": {},
   "outputs": [],
   "source": [
    "features_train, features_valid, target_train, target_valid = train_test_split(\n",
    "    X_train, y_train, test_size=0.1, random_state=12345)\n",
    "model_cat_test = CatBoostRegressor(verbose=100,\n",
    "                             depth=10,\n",
    "                             iterations=300,\n",
    "                             learning_rate=0.3)"
   ]
  },
  {
   "cell_type": "code",
   "execution_count": 63,
   "id": "fe6030c8",
   "metadata": {},
   "outputs": [
    {
     "name": "stdout",
     "output_type": "stream",
     "text": [
      "0:\tlearn: 3439.8370777\ttotal: 379ms\tremaining: 1m 53s\n",
      "100:\tlearn: 1372.9323782\ttotal: 25.1s\tremaining: 49.5s\n",
      "200:\tlearn: 1291.5598847\ttotal: 50.2s\tremaining: 24.7s\n",
      "299:\tlearn: 1234.7560637\ttotal: 1m 15s\tremaining: 0us\n",
      "CPU times: total: 10min 42s\n",
      "Wall time: 1min 16s\n"
     ]
    },
    {
     "data": {
      "text/plain": [
       "<catboost.core.CatBoostRegressor at 0x1e901254af0>"
      ]
     },
     "execution_count": 63,
     "metadata": {},
     "output_type": "execute_result"
    }
   ],
   "source": [
    "%%time\n",
    "model_cat_test.fit(X_train,y_train, cat_features=X.select_dtypes('object').columns.values\n",
    "                        #, plot=True\n",
    "                       )"
   ]
  },
  {
   "cell_type": "code",
   "execution_count": 64,
   "id": "a7af8ce7",
   "metadata": {},
   "outputs": [
    {
     "name": "stdout",
     "output_type": "stream",
     "text": [
      "CPU times: total: 531 ms\n",
      "Wall time: 114 ms\n"
     ]
    },
    {
     "data": {
      "text/plain": [
       "array([ 569.68394008,  778.66464499, 2309.90891601, ..., 4595.37616067,\n",
       "       9330.77114577, 3044.45215679])"
      ]
     },
     "execution_count": 64,
     "metadata": {},
     "output_type": "execute_result"
    }
   ],
   "source": [
    "%%time\n",
    "model_cat_test.predict(features_valid)"
   ]
  },
  {
   "cell_type": "code",
   "execution_count": 65,
   "id": "8dd60bb3",
   "metadata": {},
   "outputs": [
    {
     "data": {
      "text/plain": [
       "1292.8904659480643"
      ]
     },
     "execution_count": 65,
     "metadata": {},
     "output_type": "execute_result"
    }
   ],
   "source": [
    "pred_cat = model_cat_test.predict(features_valid)\n",
    "pred_cat = pd.Series(pred_cat, name='pred_cat')\n",
    "pred_cat[pred_cat<0] = 0\n",
    "mean_squared_error(pred_cat, target_valid, squared=False)"
   ]
  },
  {
   "cell_type": "code",
   "execution_count": 66,
   "id": "ac6a53d4",
   "metadata": {},
   "outputs": [],
   "source": [
    "cat_parameters = {'fit':80, 'predict': 0.5, 'RMSE': 1293}"
   ]
  },
  {
   "cell_type": "code",
   "execution_count": 67,
   "id": "2c606000",
   "metadata": {},
   "outputs": [
    {
     "data": {
      "text/plain": [
       "{'loss_function': 'RMSE', 'verbose': 100}"
      ]
     },
     "execution_count": 67,
     "metadata": {},
     "output_type": "execute_result"
    }
   ],
   "source": [
    "model_cat.get_params()"
   ]
  },
  {
   "cell_type": "code",
   "execution_count": 68,
   "id": "852934a0",
   "metadata": {},
   "outputs": [],
   "source": [
    "Cat_bf = pd.Series(model_cat_test.feature_importances_, index=features_train.columns, name='Cat')"
   ]
  },
  {
   "cell_type": "code",
   "execution_count": 69,
   "id": "ca429a71",
   "metadata": {},
   "outputs": [
    {
     "data": {
      "image/png": "[encoded data removed]",
      "text/plain": [
       "<Figure size 1080x360 with 1 Axes>"
      ]
     },
     "metadata": {
      "needs_background": "light"
     },
     "output_type": "display_data"
    }
   ],
   "source": [
    "plt.figure(figsize=(15,5))\n",
    "plt.xlabel('Важность признака')\n",
    "plt.barh(X_train.columns, model_cat_test.feature_importances_)\n",
    "\n",
    "plt.grid(axis='x')"
   ]
  },
  {
   "cell_type": "markdown",
   "id": "22811932",
   "metadata": {},
   "source": [
    "С удачными параметрами модель обучается достаточно быстро и дает результат лучше 1500. Можно увеличить колличество итераций результат будет лучше, но обучение дольше. Также можно попробовать еще \"поиграть\" с параметрами."
   ]
  },
  {
   "cell_type": "code",
   "execution_count": 70,
   "id": "a97b72bb",
   "metadata": {},
   "outputs": [],
   "source": [
    "del p"
   ]
  },
  {
   "cell_type": "markdown",
   "id": "87c90069",
   "metadata": {},
   "source": [
    "### LGBMRegressor\n",
    "Пройдем все шаги также как с CatBoost."
   ]
  },
  {
   "cell_type": "code",
   "execution_count": 71,
   "id": "0ca66367",
   "metadata": {},
   "outputs": [],
   "source": [
    "y = df['Price']\n",
    "X = df.drop(['Price'] , axis=1)\n",
    "X_train, X_test, y_train, y_test = train_test_split(\n",
    "    X, y, test_size=0.1, random_state=12345)"
   ]
  },
  {
   "cell_type": "code",
   "execution_count": 72,
   "id": "f145eb73",
   "metadata": {},
   "outputs": [],
   "source": [
    "X_train = (X_train.select_dtypes('int64').reset_index(drop=True)\n",
    "        .join(pd.DataFrame(oe.fit_transform(X_train.select_dtypes('object')))))\n",
    "\n",
    "X_test = (X_test.select_dtypes('int64').reset_index(drop=True)\n",
    "        .join(pd.DataFrame(oe.transform(X_test.select_dtypes('object')))))"
   ]
  },
  {
   "cell_type": "markdown",
   "id": "2ee76cc0",
   "metadata": {},
   "source": [
    "Посмотрим как повлияют на результат разные параметры."
   ]
  },
  {
   "cell_type": "code",
   "execution_count": 73,
   "id": "e994835b",
   "metadata": {},
   "outputs": [],
   "source": [
    "grid = {'learning_rate': [0.3, 0.4, 0.5, 0.6],\n",
    "        'max_depth': [8, 10, 12],\n",
    "        'n_estimators': [100,200, 300]}"
   ]
  },
  {
   "cell_type": "code",
   "execution_count": 74,
   "id": "5968737a",
   "metadata": {},
   "outputs": [],
   "source": [
    "model_LGBM = LGBMRegressor()\n",
    "Grid_LGBM = GridSearchCV(estimator=model_LGBM, param_grid = grid, cv = 3, scoring='neg_mean_absolute_error', n_jobs=-1)"
   ]
  },
  {
   "cell_type": "code",
   "execution_count": 75,
   "id": "93d8f6aa",
   "metadata": {},
   "outputs": [
    {
     "name": "stdout",
     "output_type": "stream",
     "text": [
      "CPU times: total: 15.6 s\n",
      "Wall time: 46.9 s\n"
     ]
    },
    {
     "data": {
      "text/plain": [
       "GridSearchCV(cv=3, estimator=LGBMRegressor(), n_jobs=-1,\n",
       "             param_grid={'learning_rate': [0.3, 0.4, 0.5, 0.6],\n",
       "                         'max_depth': [8, 10, 12],\n",
       "                         'n_estimators': [100, 200, 300]},\n",
       "             scoring='neg_mean_absolute_error')"
      ]
     },
     "execution_count": 75,
     "metadata": {},
     "output_type": "execute_result"
    }
   ],
   "source": [
    "%%time\n",
    "Grid_LGBM.fit(X_train,y_train)"
   ]
  },
  {
   "cell_type": "markdown",
   "id": "5ac11ac5",
   "metadata": {},
   "source": [
    "Модель обучалась дольше чем CatBoost и результат дала хуже."
   ]
  },
  {
   "cell_type": "code",
   "execution_count": 76,
   "id": "368b1dce",
   "metadata": {},
   "outputs": [
    {
     "data": {
      "text/plain": [
       "{'learning_rate': 0.3, 'max_depth': 8, 'n_estimators': 300}"
      ]
     },
     "execution_count": 76,
     "metadata": {},
     "output_type": "execute_result"
    }
   ],
   "source": [
    "Grid_LGBM.best_params_"
   ]
  },
  {
   "cell_type": "code",
   "execution_count": 77,
   "id": "e8718e4d",
   "metadata": {},
   "outputs": [
    {
     "name": "stdout",
     "output_type": "stream",
     "text": [
      "Время обучения: 4.74933393796285\n",
      "Время предсказания: 1.811752716700236\n",
      "RMSE: -939.9786261984642\n"
     ]
    }
   ],
   "source": [
    "print('Время обучения:',Grid_LGBM.cv_results_['mean_fit_time'][11])\n",
    "print('Время предсказания:', Grid_LGBM.cv_results_['mean_score_time'][11])\n",
    "print('RMSE:', Grid_LGBM.cv_results_['mean_test_score'][11])"
   ]
  },
  {
   "cell_type": "markdown",
   "id": "07c16002",
   "metadata": {},
   "source": [
    "Модель обучается очень быстро и дала лучший результат."
   ]
  },
  {
   "cell_type": "code",
   "execution_count": 78,
   "id": "b6916c76",
   "metadata": {},
   "outputs": [],
   "source": [
    "y = df['Price']\n",
    "X = df.drop(['Price'] , axis=1)\n",
    "X_train, X_test, y_train, y_test = train_test_split(\n",
    "    X, y, test_size=0.1, random_state=12345)\n",
    "features_train, features_valid, target_train, target_valid = train_test_split(\n",
    "    X_train, y_train, test_size=0.2, random_state=12345)"
   ]
  },
  {
   "cell_type": "code",
   "execution_count": 79,
   "id": "570702ce",
   "metadata": {},
   "outputs": [],
   "source": [
    "X_train = (features_train.select_dtypes('int64').reset_index(drop=True)\n",
    "        .join(pd.DataFrame(oe.fit_transform(features_train.select_dtypes('object')), \n",
    "              columns=features_train.select_dtypes('object').columns)))\n",
    "\n",
    "X_valid = (features_valid.select_dtypes('int64').reset_index(drop=True)\n",
    "        .join(pd.DataFrame(oe.transform(features_valid.select_dtypes('object')), \n",
    "              columns=features_valid.select_dtypes('object').columns)))\n",
    "\n",
    "model_LGBM_test = LGBMRegressor(learning_rate=0.3, max_depth=8, n_estimators=300)"
   ]
  },
  {
   "cell_type": "code",
   "execution_count": 80,
   "id": "baa7bb24",
   "metadata": {},
   "outputs": [
    {
     "name": "stdout",
     "output_type": "stream",
     "text": [
      "CPU times: total: 12.2 s\n",
      "Wall time: 1.1 s\n"
     ]
    },
    {
     "data": {
      "text/plain": [
       "LGBMRegressor(learning_rate=0.3, max_depth=8, n_estimators=300)"
      ]
     },
     "execution_count": 80,
     "metadata": {},
     "output_type": "execute_result"
    }
   ],
   "source": [
    "%%time\n",
    "model_LGBM_test.fit(X_train,target_train)"
   ]
  },
  {
   "cell_type": "code",
   "execution_count": 81,
   "id": "5fc2f502",
   "metadata": {},
   "outputs": [
    {
     "name": "stdout",
     "output_type": "stream",
     "text": [
      "CPU times: total: 1.02 s\n",
      "Wall time: 102 ms\n"
     ]
    },
    {
     "data": {
      "text/plain": [
       "array([ 720.20077525, 1272.18647264, 2207.00357409, ..., 1604.54703406,\n",
       "       3535.29292664, 2235.71597522])"
      ]
     },
     "execution_count": 81,
     "metadata": {},
     "output_type": "execute_result"
    }
   ],
   "source": [
    "%%time\n",
    "model_LGBM_test.predict(X_valid)"
   ]
  },
  {
   "cell_type": "code",
   "execution_count": 82,
   "id": "3a3ce73b",
   "metadata": {},
   "outputs": [
    {
     "data": {
      "text/plain": [
       "1472.606296375218"
      ]
     },
     "execution_count": 82,
     "metadata": {},
     "output_type": "execute_result"
    }
   ],
   "source": [
    "pred_LGBM = model_LGBM_test.predict(X_valid)\n",
    "pred_LGBM = pd.Series(pred_LGBM, name='pred_LGBM')\n",
    "pred_LGBM[pred_LGBM<0] = 0\n",
    "mean_squared_error(pred_LGBM, target_valid, squared=False)"
   ]
  },
  {
   "cell_type": "code",
   "execution_count": 83,
   "id": "5f6b6087",
   "metadata": {},
   "outputs": [],
   "source": [
    "LGBM_parameters = {'fit':11.5, \n",
    "                  'predict': 1.2, \n",
    "                  'RMSE': 1473}"
   ]
  },
  {
   "cell_type": "code",
   "execution_count": 84,
   "id": "1869cab9",
   "metadata": {},
   "outputs": [],
   "source": [
    "LGBM_bf = pd.Series(model_LGBM_test.feature_importances_, index=X_train.columns, name='LGBM')"
   ]
  },
  {
   "cell_type": "code",
   "execution_count": 85,
   "id": "99c52c49",
   "metadata": {},
   "outputs": [
    {
     "data": {
      "text/plain": [
       "RegistrationYear     1439\n",
       "Power                1645\n",
       "Kilometer             715\n",
       "DateCreated           552\n",
       "VehicleType           595\n",
       "Gearbox               159\n",
       "Model                1232\n",
       "RegistrationMonth     497\n",
       "FuelType              296\n",
       "Brand                 806\n",
       "Repaired              190\n",
       "PostalCode            874\n",
       "Name: LGBM, dtype: int32"
      ]
     },
     "execution_count": 85,
     "metadata": {},
     "output_type": "execute_result"
    }
   ],
   "source": [
    "LGBM_bf"
   ]
  },
  {
   "cell_type": "code",
   "execution_count": 86,
   "id": "73663e79",
   "metadata": {},
   "outputs": [
    {
     "data": {
      "image/png": "[encoded data removed]",
      "text/plain": [
       "<Figure size 1080x360 with 1 Axes>"
      ]
     },
     "metadata": {
      "needs_background": "light"
     },
     "output_type": "display_data"
    }
   ],
   "source": [
    "plt.figure(figsize=(15,5))\n",
    "plt.xlabel('Важность признака')\n",
    "plt.barh(X_train.columns, model_LGBM_test.feature_importances_)\n",
    "\n",
    "plt.grid(axis='x')"
   ]
  },
  {
   "cell_type": "markdown",
   "id": "8a76d0df",
   "metadata": {},
   "source": [
    "LGBM обучилась быстрее чем CatBoost, но дала результат хуже."
   ]
  },
  {
   "cell_type": "markdown",
   "id": "0cecf09f",
   "metadata": {},
   "source": [
    "## Анализ моделей\n",
    "Сравним результаты моделей."
   ]
  },
  {
   "cell_type": "code",
   "execution_count": 87,
   "id": "345a91a3",
   "metadata": {},
   "outputs": [],
   "source": [
    "params = pd.DataFrame([lin_parameters, forest_parameters, cat_parameters, LGBM_parameters], index=['lin', 'forest', 'CatBoost', 'LGBM'])"
   ]
  },
  {
   "cell_type": "code",
   "execution_count": 88,
   "id": "4ff626d9",
   "metadata": {},
   "outputs": [
    {
     "data": {
      "text/html": [
       "<div>\n",
       "<style scoped>\n",
       "    .dataframe tbody tr th:only-of-type {\n",
       "        vertical-align: middle;\n",
       "    }\n",
       "\n",
       "    .dataframe tbody tr th {\n",
       "        vertical-align: top;\n",
       "    }\n",
       "\n",
       "    .dataframe thead th {\n",
       "        text-align: right;\n",
       "    }\n",
       "</style>\n",
       "<table border=\"1\" class=\"dataframe\">\n",
       "  <thead>\n",
       "    <tr style=\"text-align: right;\">\n",
       "      <th></th>\n",
       "      <th>fit</th>\n",
       "      <th>predict</th>\n",
       "      <th>RMSE</th>\n",
       "    </tr>\n",
       "  </thead>\n",
       "  <tbody>\n",
       "    <tr>\n",
       "      <th>lin</th>\n",
       "      <td>8.0</td>\n",
       "      <td>0.11</td>\n",
       "      <td>2317</td>\n",
       "    </tr>\n",
       "    <tr>\n",
       "      <th>forest</th>\n",
       "      <td>7.5</td>\n",
       "      <td>0.09</td>\n",
       "      <td>1658</td>\n",
       "    </tr>\n",
       "    <tr>\n",
       "      <th>CatBoost</th>\n",
       "      <td>80.0</td>\n",
       "      <td>0.50</td>\n",
       "      <td>1293</td>\n",
       "    </tr>\n",
       "    <tr>\n",
       "      <th>LGBM</th>\n",
       "      <td>11.5</td>\n",
       "      <td>1.20</td>\n",
       "      <td>1473</td>\n",
       "    </tr>\n",
       "  </tbody>\n",
       "</table>\n",
       "</div>"
      ],
      "text/plain": [
       "           fit  predict  RMSE\n",
       "lin        8.0     0.11  2317\n",
       "forest     7.5     0.09  1658\n",
       "CatBoost  80.0     0.50  1293\n",
       "LGBM      11.5     1.20  1473"
      ]
     },
     "execution_count": 88,
     "metadata": {},
     "output_type": "execute_result"
    }
   ],
   "source": [
    "params"
   ]
  },
  {
   "cell_type": "markdown",
   "id": "9e7ccf43",
   "metadata": {},
   "source": [
    "CatBoost обучался значительно дольше других моделей, возможно это связано с преобразованием признаков внутри модели. Также точность CatBoost оказалась максимальной, хотя на тесте различия оказались не столь существены. \n",
    "    \n",
    "LGBM обучался быстрее других моделей, скорее всего из-за распараллеливания процесов. LGBM значительно дольше предсказывал, это объяснить не могу. "
   ]
  },
  {
   "cell_type": "code",
   "execution_count": 89,
   "id": "cedeba8e",
   "metadata": {
    "scrolled": true
   },
   "outputs": [],
   "source": [
    "bf = pd.DataFrame([LGBM_bf/3000, Cat_bf/100, forest_bf]).T"
   ]
  },
  {
   "cell_type": "code",
   "execution_count": 90,
   "id": "0a214d7e",
   "metadata": {},
   "outputs": [
    {
     "data": {
      "text/plain": [
       "<AxesSubplot:>"
      ]
     },
     "execution_count": 90,
     "metadata": {},
     "output_type": "execute_result"
    },
    {
     "data": {
      "image/png": "[encoded data removed]",
      "text/plain": [
       "<Figure size 1080x360 with 1 Axes>"
      ]
     },
     "metadata": {
      "needs_background": "light"
     },
     "output_type": "display_data"
    }
   ],
   "source": [
    "bf.plot(kind='barh',figsize=(15,5), grid=True)"
   ]
  },
  {
   "cell_type": "markdown",
   "id": "05add099",
   "metadata": {},
   "source": [
    "Каждая модель по-разному выделяет важность признаков. Заметно что LGBM выбирает признаки более равномерно."
   ]
  },
  {
   "cell_type": "code",
   "execution_count": 91,
   "id": "38b90b3d",
   "metadata": {},
   "outputs": [],
   "source": [
    "answers = target_valid.reset_index(drop=True)\n",
    "answers = pd.DataFrame({'answers':answers, \n",
    "                      'pred_lin': pred_lin, \n",
    "                      'pred_forest': pred_forest, \n",
    "                      'pred_cat': pred_cat, \n",
    "                      'pred_LGBM': pred_LGBM})"
   ]
  },
  {
   "cell_type": "code",
   "execution_count": 92,
   "id": "25903718",
   "metadata": {},
   "outputs": [],
   "source": [
    "answers = answers.sort_values('answers').reset_index(drop=True)"
   ]
  },
  {
   "cell_type": "code",
   "execution_count": 93,
   "id": "8d51a77f",
   "metadata": {},
   "outputs": [],
   "source": [
    "answers[answers==0] = 1"
   ]
  },
  {
   "cell_type": "code",
   "execution_count": 94,
   "id": "1f4ef840",
   "metadata": {},
   "outputs": [
    {
     "data": {
      "text/plain": [
       "0.06470270897261798"
      ]
     },
     "execution_count": 94,
     "metadata": {},
     "output_type": "execute_result"
    }
   ],
   "source": [
    "answers['pred_lin'].min()"
   ]
  },
  {
   "cell_type": "code",
   "execution_count": 95,
   "id": "d4202591",
   "metadata": {
    "scrolled": false
   },
   "outputs": [
    {
     "data": {
      "image/png": "[encoded data removed]",
      "text/plain": [
       "<Figure size 1080x360 with 1 Axes>"
      ]
     },
     "metadata": {
      "needs_background": "light"
     },
     "output_type": "display_data"
    },
    {
     "data": {
      "image/png": "[encoded data removed]",
      "text/plain": [
       "<Figure size 1080x360 with 1 Axes>"
      ]
     },
     "metadata": {
      "needs_background": "light"
     },
     "output_type": "display_data"
    },
    {
     "data": {
      "image/png": "[encoded data removed]",
      "text/plain": [
       "<Figure size 1080x360 with 1 Axes>"
      ]
     },
     "metadata": {
      "needs_background": "light"
     },
     "output_type": "display_data"
    },
    {
     "data": {
      "image/png": "[encoded data removed]",
      "text/plain": [
       "<Figure size 1080x360 with 1 Axes>"
      ]
     },
     "metadata": {
      "needs_background": "light"
     },
     "output_type": "display_data"
    }
   ],
   "source": [
    "for i in answers.columns[1:]:\n",
    "    plt.figure(figsize=(15,5))\n",
    "    plt.xlabel('Порядковый номер автомобиля, отсортированы по цене')\n",
    "    plt.ylabel('Цена, log')\n",
    "    plt.plot(np.log10(answers[i]), 'o', markersize=1)\n",
    "    plt.plot(np.log10(answers.answers), 'o', markersize=1)\n",
    "    plt.title(i)"
   ]
  },
  {
   "cell_type": "code",
   "execution_count": 96,
   "id": "7342458f",
   "metadata": {
    "scrolled": true
   },
   "outputs": [
    {
     "data": {
      "text/plain": [
       "[<matplotlib.lines.Line2D at 0x1e902fe2310>]"
      ]
     },
     "execution_count": 96,
     "metadata": {},
     "output_type": "execute_result"
    },
    {
     "data": {
      "image/png": "[encoded data removed]",
      "text/plain": [
       "<Figure size 432x288 with 1 Axes>"
      ]
     },
     "metadata": {
      "needs_background": "light"
     },
     "output_type": "display_data"
    }
   ],
   "source": [
    "plt.xlabel('Предсказанная цена pred_LGBM + 1000, log')\n",
    "plt.ylabel('Предсказанная цена pred_cat + 1000, log')\n",
    "plt.plot(np.log(answers.pred_LGBM+1000),np.log(answers.pred_cat+1000), 'o', markersize=1, color='r')\n",
    "plt.plot(np.log(answers.answers+1000),np.log(answers.answers+1000))"
   ]
  },
  {
   "cell_type": "markdown",
   "id": "7f73e8ad",
   "metadata": {},
   "source": [
    "Заметно что предсказания моделей бустинга похожи, но имеют различия. Можно взять среднее между ними."
   ]
  },
  {
   "cell_type": "markdown",
   "id": "aec8673e",
   "metadata": {},
   "source": [
    "Но это увеличит время обучения и предсказания. Исходя из этого, выберем CatBoost, т.к. модель показала лучший результат и хорошую скорость предсказания(2 из 3 параметров)."
   ]
  },
  {
   "cell_type": "code",
   "execution_count": 97,
   "id": "9cd011de",
   "metadata": {},
   "outputs": [
    {
     "name": "stdout",
     "output_type": "stream",
     "text": [
      "0:\tlearn: 3439.8370777\ttotal: 247ms\tremaining: 1m 13s\n",
      "100:\tlearn: 1372.9323782\ttotal: 25s\tremaining: 49.2s\n",
      "200:\tlearn: 1291.5598847\ttotal: 50.4s\tremaining: 24.8s\n",
      "299:\tlearn: 1234.7560637\ttotal: 1m 16s\tremaining: 0us\n"
     ]
    },
    {
     "data": {
      "text/plain": [
       "1425.5174727603642"
      ]
     },
     "execution_count": 97,
     "metadata": {},
     "output_type": "execute_result"
    }
   ],
   "source": [
    "y = df['Price']\n",
    "X = df.drop(['Price','PostalCode'] , axis=1)\n",
    "X_train, X_test, y_train, y_test = train_test_split(\n",
    "    X, y, test_size=0.1, random_state=12345)\n",
    "model_cat_best_grid = CatBoostRegressor(verbose=100,\n",
    "                             depth=10,\n",
    "                             iterations=300,\n",
    "                             learning_rate=0.3)\n",
    "model_cat_best_grid.fit(X_train,y_train, cat_features=X.select_dtypes('object').columns.values\n",
    "                        #, plot=True\n",
    "                       )\n",
    "pred_cat = model_cat_best_grid.predict(X_test)\n",
    "pred_cat = pd.Series(pred_cat, name='pred')\n",
    "pred_cat[pred_cat<0] = 0\n",
    "mean_squared_error(pred_cat, y_test, squared=False)"
   ]
  },
  {
   "cell_type": "markdown",
   "id": "0cf61a8b",
   "metadata": {},
   "source": [
    "Итого результат на тестовой выборке 1426."
   ]
  },
  {
   "cell_type": "markdown",
   "id": "dc00c46e",
   "metadata": {},
   "source": [
    "Линейная регрессия очень плохо определяет цену, только дорогим автомобилям реже присваевается нулевая цена.\n",
    "\n",
    "Случайный лес не определяет цену на краях выборки. Заметно \"слежение\" графика за истиными значениями.\n",
    "\n",
    "Графики LGBM и CatBoost очень похожи. Дают большой разброс значений для автомобилей с низкой ценой. Возможно проставленая низкая цена в некоторых случаях является ошибкой данных. Обе модели неплохо отслеживают истиный график."
   ]
  },
  {
   "cell_type": "markdown",
   "id": "17e57ddc",
   "metadata": {},
   "source": [
    "## Вывод\n",
    "Были получены данные о подержанных автомобилях и их цене. Были отброшены устаревшие объявления и объявления без цены (с указанной ценой 0 и 1). Также не рассматривались автомобили старше 30 лет и с выбивающимися значениями мощности двигателя. \n",
    "\n",
    "Были построены 4 модели предсказания цены:\n",
    "<ul>\n",
    " <li>LinearRegression</li>\n",
    " <li>RandomForest</li>\n",
    " <li>LightGBM</li>\n",
    " <li>CatBoost</li>\n",
    "</ul>\n",
    "Для всех моделей получена точность выше требуемой. А время обучения моделей не превышает 2 мин. Для всех моделей характерно плохое предсказание дешевых автомобилей.\n",
    "\n",
    "Лучшую точность показали модели градиентного бустинга. CatBoost немного точнее и немного медленнее. Можно увеличить колличество деревье в обучении тогда точность будет выше, но и время обучения больше."
   ]
  }
 ],
 "metadata": {
  "kernelspec": {
   "display_name": "Python 3 (ipykernel)",
   "language": "python",
   "name": "python3"
  },
  "language_info": {
   "codemirror_mode": {
    "name": "ipython",
    "version": 3
   },
   "file_extension": ".py",
   "mimetype": "text/x-python",
   "name": "python",
   "nbconvert_exporter": "python",
   "pygments_lexer": "ipython3",
   "version": "3.9.12"
  }
 },
 "nbformat": 4,
 "nbformat_minor": 5
}
