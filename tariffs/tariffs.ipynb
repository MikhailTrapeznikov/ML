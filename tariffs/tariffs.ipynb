{
 "cells": [
  {
   "cell_type": "markdown",
   "id": "98f1c1a4",
   "metadata": {},
   "source": [
    "# Рекомендация тарифов"
   ]
  },
  {
   "cell_type": "markdown",
   "id": "903dcc17",
   "metadata": {},
   "source": [
    "\n",
    "<div> <b>Цель исследования:</b><br>\n",
    "    1. Проанализировать поведение клиентов<br>\n",
    "    2. Предложить пользователям новый тариф<br>\n",
    "    3. Построить модель с максимально большим значением <b>accuracy</b>\n",
    "    <br>\n",
    "    <b>Ход исследования:</b><br>\n",
    "    1. Выгрузить таблицу<br>\n",
    "    2. Разделить исходные данные на обучающую, валидационную и тестовую выборки<br>\n",
    "    3. Построить модель для задачи классификации, которая выберет подходящий тариф<br>\n",
    "    <ul>\n",
    "         <li>Решающее дерево</li>\n",
    "         <li>Случайный лес</li>\n",
    "         <li>Логистическая регрессия</li>\n",
    "    </ul>\n",
    "    4. Проверить качество модели на тестовой выборке<br>\n",
    "    5. Проверить модели на вменяемость<br>\n",
    "</div>"
   ]
  },
  {
   "cell_type": "markdown",
   "id": "458e6b0f",
   "metadata": {},
   "source": [
    "## Откройте и изучите файл"
   ]
  },
  {
   "cell_type": "markdown",
   "id": "a5216aae",
   "metadata": {},
   "source": [
    "Подключим все необходимые модули"
   ]
  },
  {
   "cell_type": "code",
   "execution_count": 1,
   "id": "bb222a71",
   "metadata": {},
   "outputs": [],
   "source": [
    "import pandas as pd\n",
    "from sklearn.tree import DecisionTreeClassifier\n",
    "from sklearn.ensemble import RandomForestClassifier\n",
    "from sklearn.linear_model import LogisticRegression\n",
    "from sklearn.model_selection import train_test_split\n",
    "from sklearn.metrics import accuracy_score\n",
    "from sklearn.metrics import roc_auc_score"
   ]
  },
  {
   "cell_type": "markdown",
   "id": "fe498557",
   "metadata": {},
   "source": [
    "Откроем таблицу"
   ]
  },
  {
   "cell_type": "code",
   "execution_count": 2,
   "id": "21e76aea",
   "metadata": {
    "scrolled": false
   },
   "outputs": [
    {
     "data": {
      "text/html": [
       "<div>\n",
       "<style scoped>\n",
       "    .dataframe tbody tr th:only-of-type {\n",
       "        vertical-align: middle;\n",
       "    }\n",
       "\n",
       "    .dataframe tbody tr th {\n",
       "        vertical-align: top;\n",
       "    }\n",
       "\n",
       "    .dataframe thead th {\n",
       "        text-align: right;\n",
       "    }\n",
       "</style>\n",
       "<table border=\"1\" class=\"dataframe\">\n",
       "  <thead>\n",
       "    <tr style=\"text-align: right;\">\n",
       "      <th></th>\n",
       "      <th>calls</th>\n",
       "      <th>minutes</th>\n",
       "      <th>messages</th>\n",
       "      <th>mb_used</th>\n",
       "      <th>is_ultra</th>\n",
       "    </tr>\n",
       "  </thead>\n",
       "  <tbody>\n",
       "    <tr>\n",
       "      <th>0</th>\n",
       "      <td>40.0</td>\n",
       "      <td>311.90</td>\n",
       "      <td>83.0</td>\n",
       "      <td>19915.42</td>\n",
       "      <td>0</td>\n",
       "    </tr>\n",
       "    <tr>\n",
       "      <th>1</th>\n",
       "      <td>85.0</td>\n",
       "      <td>516.75</td>\n",
       "      <td>56.0</td>\n",
       "      <td>22696.96</td>\n",
       "      <td>0</td>\n",
       "    </tr>\n",
       "    <tr>\n",
       "      <th>2</th>\n",
       "      <td>77.0</td>\n",
       "      <td>467.66</td>\n",
       "      <td>86.0</td>\n",
       "      <td>21060.45</td>\n",
       "      <td>0</td>\n",
       "    </tr>\n",
       "    <tr>\n",
       "      <th>3</th>\n",
       "      <td>106.0</td>\n",
       "      <td>745.53</td>\n",
       "      <td>81.0</td>\n",
       "      <td>8437.39</td>\n",
       "      <td>1</td>\n",
       "    </tr>\n",
       "    <tr>\n",
       "      <th>4</th>\n",
       "      <td>66.0</td>\n",
       "      <td>418.74</td>\n",
       "      <td>1.0</td>\n",
       "      <td>14502.75</td>\n",
       "      <td>0</td>\n",
       "    </tr>\n",
       "  </tbody>\n",
       "</table>\n",
       "</div>"
      ],
      "text/plain": [
       "   calls  minutes  messages   mb_used  is_ultra\n",
       "0   40.0   311.90      83.0  19915.42         0\n",
       "1   85.0   516.75      56.0  22696.96         0\n",
       "2   77.0   467.66      86.0  21060.45         0\n",
       "3  106.0   745.53      81.0   8437.39         1\n",
       "4   66.0   418.74       1.0  14502.75         0"
      ]
     },
     "metadata": {},
     "output_type": "display_data"
    }
   ],
   "source": [
    "df = pd.read_csv('users_behavior.csv')\n",
    "display(df.head(5))"
   ]
  },
  {
   "cell_type": "code",
   "execution_count": 3,
   "id": "497f6921",
   "metadata": {},
   "outputs": [
    {
     "name": "stdout",
     "output_type": "stream",
     "text": [
      "<class 'pandas.core.frame.DataFrame'>\n",
      "RangeIndex: 3214 entries, 0 to 3213\n",
      "Data columns (total 5 columns):\n",
      " #   Column    Non-Null Count  Dtype  \n",
      "---  ------    --------------  -----  \n",
      " 0   calls     3214 non-null   float64\n",
      " 1   minutes   3214 non-null   float64\n",
      " 2   messages  3214 non-null   float64\n",
      " 3   mb_used   3214 non-null   float64\n",
      " 4   is_ultra  3214 non-null   int64  \n",
      "dtypes: float64(4), int64(1)\n",
      "memory usage: 125.7 KB\n"
     ]
    },
    {
     "data": {
      "text/plain": [
       "None"
      ]
     },
     "metadata": {},
     "output_type": "display_data"
    },
    {
     "data": {
      "text/html": [
       "<div>\n",
       "<style scoped>\n",
       "    .dataframe tbody tr th:only-of-type {\n",
       "        vertical-align: middle;\n",
       "    }\n",
       "\n",
       "    .dataframe tbody tr th {\n",
       "        vertical-align: top;\n",
       "    }\n",
       "\n",
       "    .dataframe thead th {\n",
       "        text-align: right;\n",
       "    }\n",
       "</style>\n",
       "<table border=\"1\" class=\"dataframe\">\n",
       "  <thead>\n",
       "    <tr style=\"text-align: right;\">\n",
       "      <th></th>\n",
       "      <th>calls</th>\n",
       "      <th>minutes</th>\n",
       "      <th>messages</th>\n",
       "      <th>mb_used</th>\n",
       "      <th>is_ultra</th>\n",
       "    </tr>\n",
       "  </thead>\n",
       "  <tbody>\n",
       "    <tr>\n",
       "      <th>count</th>\n",
       "      <td>3214.000000</td>\n",
       "      <td>3214.000000</td>\n",
       "      <td>3214.000000</td>\n",
       "      <td>3214.000000</td>\n",
       "      <td>3214.000000</td>\n",
       "    </tr>\n",
       "    <tr>\n",
       "      <th>mean</th>\n",
       "      <td>63.038892</td>\n",
       "      <td>438.208787</td>\n",
       "      <td>38.281269</td>\n",
       "      <td>17207.673836</td>\n",
       "      <td>0.306472</td>\n",
       "    </tr>\n",
       "    <tr>\n",
       "      <th>std</th>\n",
       "      <td>33.236368</td>\n",
       "      <td>234.569872</td>\n",
       "      <td>36.148326</td>\n",
       "      <td>7570.968246</td>\n",
       "      <td>0.461100</td>\n",
       "    </tr>\n",
       "    <tr>\n",
       "      <th>min</th>\n",
       "      <td>0.000000</td>\n",
       "      <td>0.000000</td>\n",
       "      <td>0.000000</td>\n",
       "      <td>0.000000</td>\n",
       "      <td>0.000000</td>\n",
       "    </tr>\n",
       "    <tr>\n",
       "      <th>25%</th>\n",
       "      <td>40.000000</td>\n",
       "      <td>274.575000</td>\n",
       "      <td>9.000000</td>\n",
       "      <td>12491.902500</td>\n",
       "      <td>0.000000</td>\n",
       "    </tr>\n",
       "    <tr>\n",
       "      <th>50%</th>\n",
       "      <td>62.000000</td>\n",
       "      <td>430.600000</td>\n",
       "      <td>30.000000</td>\n",
       "      <td>16943.235000</td>\n",
       "      <td>0.000000</td>\n",
       "    </tr>\n",
       "    <tr>\n",
       "      <th>75%</th>\n",
       "      <td>82.000000</td>\n",
       "      <td>571.927500</td>\n",
       "      <td>57.000000</td>\n",
       "      <td>21424.700000</td>\n",
       "      <td>1.000000</td>\n",
       "    </tr>\n",
       "    <tr>\n",
       "      <th>max</th>\n",
       "      <td>244.000000</td>\n",
       "      <td>1632.060000</td>\n",
       "      <td>224.000000</td>\n",
       "      <td>49745.730000</td>\n",
       "      <td>1.000000</td>\n",
       "    </tr>\n",
       "  </tbody>\n",
       "</table>\n",
       "</div>"
      ],
      "text/plain": [
       "             calls      minutes     messages       mb_used     is_ultra\n",
       "count  3214.000000  3214.000000  3214.000000   3214.000000  3214.000000\n",
       "mean     63.038892   438.208787    38.281269  17207.673836     0.306472\n",
       "std      33.236368   234.569872    36.148326   7570.968246     0.461100\n",
       "min       0.000000     0.000000     0.000000      0.000000     0.000000\n",
       "25%      40.000000   274.575000     9.000000  12491.902500     0.000000\n",
       "50%      62.000000   430.600000    30.000000  16943.235000     0.000000\n",
       "75%      82.000000   571.927500    57.000000  21424.700000     1.000000\n",
       "max     244.000000  1632.060000   224.000000  49745.730000     1.000000"
      ]
     },
     "metadata": {},
     "output_type": "display_data"
    }
   ],
   "source": [
    "display(df.info())\n",
    "display(df.describe())"
   ]
  },
  {
   "cell_type": "markdown",
   "id": "acad79ad",
   "metadata": {},
   "source": [
    "данных достаточно, чтобы провести анализ"
   ]
  },
  {
   "cell_type": "markdown",
   "id": "8a41ff85",
   "metadata": {},
   "source": [
    "Отделим фичи:\n",
    "<ul>\n",
    "     <li>calls</li>\n",
    "     <li>minutes</li>\n",
    "     <li>messages</li>\n",
    "     <li>mb_used</li>\n",
    "</ul>\n",
    "от таргета:\n",
    "<ul>\n",
    "     <li>is_ultra</li>\n",
    "</ul>"
   ]
  },
  {
   "cell_type": "code",
   "execution_count": 36,
   "id": "5ddcfc1f",
   "metadata": {},
   "outputs": [],
   "source": [
    "features = df.drop('is_ultra', axis=1)\n",
    "target = df['is_ultra']"
   ]
  },
  {
   "cell_type": "markdown",
   "id": "e342e594",
   "metadata": {},
   "source": [
    "## Разбейте данные на выборки"
   ]
  },
  {
   "cell_type": "markdown",
   "id": "c1556c8c",
   "metadata": {},
   "source": [
    "Сделаем 3 выборки:\n",
    "<ul>\n",
    "     <li>Обучающая 60%</li>\n",
    "     <li>Валидационная 20%</li>\n",
    "     <li>Тестовая 20%</li>\n",
    "</ul>"
   ]
  },
  {
   "cell_type": "code",
   "execution_count": 38,
   "id": "65b5e3b7",
   "metadata": {},
   "outputs": [],
   "source": [
    "features_train_full, features_test, target_train_full, target_test = train_test_split(\n",
    "    features, target, test_size=0.2, stratify=target, random_state=12345)\n",
    "features_train, features_valid, target_train, target_valid = train_test_split(\n",
    "    features_train_full, target_train_full, test_size=0.25, stratify=target_train_full, random_state=12345)"
   ]
  },
  {
   "cell_type": "code",
   "execution_count": 39,
   "id": "81cf6fad",
   "metadata": {
    "scrolled": true
   },
   "outputs": [
    {
     "name": "stdout",
     "output_type": "stream",
     "text": [
      "(1928, 4) (1928,)\n",
      "(643, 4) (643,)\n",
      "(643, 4) (643,)\n"
     ]
    }
   ],
   "source": [
    "print(features_train.shape, target_train.shape)\n",
    "print(features_valid.shape, target_valid.shape)\n",
    "print(features_test.shape, target_test.shape)"
   ]
  },
  {
   "cell_type": "markdown",
   "id": "dc2b5f95",
   "metadata": {},
   "source": [
    "размеры соответствуют требованию"
   ]
  },
  {
   "cell_type": "markdown",
   "id": "ce125017",
   "metadata": {},
   "source": [
    "Получили три выборки\n",
    "<ul>\n",
    "     <li>features_train, target_train</li>\n",
    "     <li>features_valid, target_valid</li>\n",
    "     <li>features_test, target_test</li>\n",
    "</ul>"
   ]
  },
  {
   "cell_type": "markdown",
   "id": "9bb50173",
   "metadata": {},
   "source": [
    "## Исследуйте модели"
   ]
  },
  {
   "cell_type": "markdown",
   "id": "466181b8",
   "metadata": {},
   "source": [
    "Построим дерево решений"
   ]
  },
  {
   "cell_type": "code",
   "execution_count": 40,
   "id": "22535365",
   "metadata": {},
   "outputs": [],
   "source": [
    "best_model = None\n",
    "best_accuracy = 0\n",
    "depth_best = 0\n",
    "est_best = 0\n",
    "est = False"
   ]
  },
  {
   "cell_type": "code",
   "execution_count": 41,
   "id": "1f82cd4a",
   "metadata": {},
   "outputs": [],
   "source": [
    "def model_accuracy_best(\n",
    "                            model_n, \n",
    "                            features_train=features_train, \n",
    "                            target_train=target_train,\n",
    "                            features_test=features_valid,\n",
    "                            target_test=target_valid\n",
    "                            ):\n",
    "    global best_model\n",
    "    global best_accuracy\n",
    "    global depth_best\n",
    "    global est_best\n",
    "    model_n.fit(features_train,target_train)\n",
    "    accuracy = accuracy_score(target_test, model_n.predict(features_test))\n",
    "    if accuracy > best_accuracy:\n",
    "        best_accuracy = accuracy\n",
    "        best_model = model_n\n",
    "        if depth:\n",
    "            depth_best = depth\n",
    "        if est:\n",
    "            est_best = est\n",
    "    return(best_accuracy, best_model, est_best, depth_best)"
   ]
  },
  {
   "cell_type": "code",
   "execution_count": 42,
   "id": "c9c9edb7",
   "metadata": {},
   "outputs": [
    {
     "name": "stdout",
     "output_type": "stream",
     "text": [
      "0.8164852255054432 5\n",
      "CPU times: total: 125 ms\n",
      "Wall time: 122 ms\n"
     ]
    }
   ],
   "source": [
    "%%time\n",
    "\n",
    "for depth in range(1,20):\n",
    "    model = DecisionTreeClassifier(random_state=12345, max_depth=depth)\n",
    "    model_accuracy_best(model)\n",
    "\n",
    "print(best_accuracy, depth_best)\n",
    "model_tree_best = best_model"
   ]
  },
  {
   "cell_type": "markdown",
   "id": "4a252b44",
   "metadata": {},
   "source": [
    "Лучшие результаты показывает дерево с глубиной 5."
   ]
  },
  {
   "cell_type": "markdown",
   "id": "5ef32039",
   "metadata": {},
   "source": [
    "Построим Случайный лес"
   ]
  },
  {
   "cell_type": "code",
   "execution_count": 87,
   "id": "6e898497",
   "metadata": {},
   "outputs": [],
   "source": [
    "from sklearn.model_selection import GridSearchCV, StratifiedKFold\n",
    "\n",
    "clf = RandomForestClassifier(random_state=12345)\n",
    "parametrs = { 'n_estimators': range (15, 30),\n",
    "              'max_depth': range (7,12)\n",
    "              #'min_samples_leaf': range (1,2),\n",
    "              #'min_samples_split': range (2,3) \n",
    "            }"
   ]
  },
  {
   "cell_type": "code",
   "execution_count": 88,
   "id": "e3cc8699",
   "metadata": {
    "scrolled": false
   },
   "outputs": [
    {
     "data": {
      "text/plain": [
       "{'max_depth': 8, 'n_estimators': 19}"
      ]
     },
     "execution_count": 88,
     "metadata": {},
     "output_type": "execute_result"
    }
   ],
   "source": [
    "grid = GridSearchCV(clf, parametrs, cv=StratifiedKFold(n_splits=5, random_state=12345, shuffle=True))\n",
    "grid.fit(features_train, target_train)\n",
    "\n",
    "grid.best_params_"
   ]
  },
  {
   "cell_type": "code",
   "execution_count": 89,
   "id": "0491e2bb",
   "metadata": {},
   "outputs": [],
   "source": [
    "best_grid_forest = RandomForestClassifier(random_state=12345,n_estimators=19, max_depth=8)"
   ]
  },
  {
   "cell_type": "code",
   "execution_count": 91,
   "id": "95b18171",
   "metadata": {},
   "outputs": [
    {
     "data": {
      "text/plain": [
       "0.8242612752721618"
      ]
     },
     "execution_count": 91,
     "metadata": {},
     "output_type": "execute_result"
    }
   ],
   "source": [
    "accuracy_score(target_valid, grid.predict(features_valid))"
   ]
  },
  {
   "cell_type": "code",
   "execution_count": 49,
   "id": "36f38a81",
   "metadata": {
    "scrolled": false
   },
   "outputs": [
    {
     "name": "stdout",
     "output_type": "stream",
     "text": [
      "0.8273716951788491 7 20\n",
      "CPU times: total: 4.27 s\n",
      "Wall time: 4.27 s\n"
     ]
    }
   ],
   "source": [
    "%%time\n",
    "best_model = None\n",
    "best_accuracy = 0\n",
    "depth_best = 0\n",
    "est_best = 0\n",
    "est = True\n",
    "\n",
    "for est in range(18, 25, 1):\n",
    "    for depth in range(5,15):\n",
    "        model = RandomForestClassifier(random_state=12345,n_estimators=est, max_depth=depth)\n",
    "        model_accuracy_best(model)\n",
    "\n",
    "print(best_accuracy, depth_best, est_best)\n",
    "model_forest_best = best_model"
   ]
  },
  {
   "cell_type": "markdown",
   "id": "541a5ee4",
   "metadata": {},
   "source": [
    "Лучшая модель с 20 деревьями и глубиной 7."
   ]
  },
  {
   "cell_type": "markdown",
   "id": "f862b9a5",
   "metadata": {},
   "source": [
    "Построим модель логистической регрессии"
   ]
  },
  {
   "cell_type": "code",
   "execution_count": 83,
   "id": "eb75f418",
   "metadata": {},
   "outputs": [
    {
     "name": "stdout",
     "output_type": "stream",
     "text": [
      "0.7558320373250389\n",
      "CPU times: total: 15.6 ms\n",
      "Wall time: 13.8 ms\n"
     ]
    }
   ],
   "source": [
    "%%time\n",
    "best_model = None\n",
    "best_accuracy = 0\n",
    "depth_best = 0\n",
    "est_best = 0\n",
    "est = True\n",
    "\n",
    "model = LogisticRegression(random_state=12345)\n",
    "model_accuracy_best(model)\n",
    "\n",
    "print(best_accuracy)\n",
    "model_logreg_best = best_model"
   ]
  },
  {
   "cell_type": "code",
   "execution_count": 98,
   "id": "02109379",
   "metadata": {},
   "outputs": [
    {
     "data": {
      "text/plain": [
       "0.7558320373250389"
      ]
     },
     "execution_count": 98,
     "metadata": {},
     "output_type": "execute_result"
    }
   ],
   "source": [
    "grid = GridSearchCV(LogisticRegression(random_state=12345, solver='liblinear'), \n",
    "                    {'C' : [5,6, 7, 4], 'penalty': ['l1', 'l2']}, \n",
    "                    cv=StratifiedKFold(n_splits=5, random_state=12345, shuffle=True))\n",
    "grid.fit(features_train, target_train)\n",
    "grid.best_params_\n",
    "\n",
    "accuracy_score(target_valid, grid.predict(features_valid))"
   ]
  },
  {
   "cell_type": "code",
   "execution_count": 99,
   "id": "f1eb909c",
   "metadata": {},
   "outputs": [
    {
     "data": {
      "text/plain": [
       "{'C': 5, 'penalty': 'l1'}"
      ]
     },
     "execution_count": 99,
     "metadata": {},
     "output_type": "execute_result"
    }
   ],
   "source": [
    "grid.best_params_"
   ]
  },
  {
   "cell_type": "code",
   "execution_count": 100,
   "id": "a69f893f",
   "metadata": {},
   "outputs": [],
   "source": [
    "best_grid_lin = LogisticRegression(random_state=12345, solver='liblinear', C=5, penalty = 'l1')"
   ]
  },
  {
   "cell_type": "markdown",
   "id": "a3c595f4",
   "metadata": {},
   "source": [
    "Данная модель показала худшие результаты."
   ]
  },
  {
   "cell_type": "markdown",
   "id": "cb28d1b7",
   "metadata": {},
   "source": [
    "Лучшие результаты показал случайный лес, худшие - логистическая регрессия."
   ]
  },
  {
   "cell_type": "markdown",
   "id": "939896dd",
   "metadata": {},
   "source": [
    "## Проверьте модель на тестовой выборке"
   ]
  },
  {
   "cell_type": "code",
   "execution_count": 101,
   "id": "397a3ad7",
   "metadata": {},
   "outputs": [
    {
     "data": {
      "text/plain": [
       "RandomForestClassifier(max_depth=8, n_estimators=19, random_state=12345)"
      ]
     },
     "execution_count": 101,
     "metadata": {},
     "output_type": "execute_result"
    }
   ],
   "source": [
    "model_tree_best.fit(features_train_full, target_train_full)\n",
    "model_logreg_best.fit(features_train_full, target_train_full)\n",
    "model_forest_best.fit(features_train_full, target_train_full)\n",
    "best_grid_lin.fit(features_train_full, target_train_full)\n",
    "best_grid_forest.fit(features_train_full, target_train_full)"
   ]
  },
  {
   "cell_type": "markdown",
   "id": "ad4fe7e6",
   "metadata": {},
   "source": [
    "Проверим лучшие модели на тестовой выборке"
   ]
  },
  {
   "cell_type": "code",
   "execution_count": 102,
   "id": "8b678a45",
   "metadata": {},
   "outputs": [
    {
     "name": "stdout",
     "output_type": "stream",
     "text": [
      "Дерево: 0.7838258164852255\n",
      "Лес: 0.8180404354587869\n",
      "Регрессия: 0.7091757387247278\n",
      "Регрессия GS: 0.7433903576982893\n",
      "Лес GS: 0.8164852255054432\n"
     ]
    }
   ],
   "source": [
    "print('Дерево:', accuracy_score(target_test, model_tree_best.predict(features_test)))\n",
    "print('Лес:', accuracy_score(target_test, model_forest_best.predict(features_test)))\n",
    "print('Регрессия:', accuracy_score(target_test, model_logreg_best.predict(features_test)))\n",
    "print('Регрессия GS:', accuracy_score(target_test, best_grid_lin.predict(features_test)))\n",
    "print('Лес GS:', accuracy_score(target_test, best_grid_forest.predict(features_test)))"
   ]
  },
  {
   "cell_type": "markdown",
   "id": "995cf37f",
   "metadata": {},
   "source": [
    "Результаты близки к результатам на валидационной выборке."
   ]
  },
  {
   "cell_type": "markdown",
   "id": "ee5ada00",
   "metadata": {},
   "source": [
    "## Вывод"
   ]
  },
  {
   "cell_type": "markdown",
   "id": "3ad70634",
   "metadata": {},
   "source": [
    "Дана таблица с данными о пользователях мобильной сети. \n",
    "\n",
    "Разбили ее на 3 группы : обучение, валидация, тест.\n",
    "\n",
    "Были построены 3 модели на обучающей выборке: \n",
    "<ul>\n",
    "     <li>Решающее дерево с глубиной 10</li>\n",
    "     <li>Случайный лес с глубиной 13 и 15 деревьями</li>\n",
    "     <li>Логистическая регрессия</li>\n",
    "</ul>\n",
    "Все модели показали неплохой результат, значительно превышающий случайный.\n",
    "\n",
    "После этого снова обучили модели уже на объединении обучающей и валидационной выборках.\n",
    "\n",
    "Все модели показали результат лучше.\n",
    "\n",
    "Лучшие результаты получены для модели случайного леса. Построение данной модели заняло много времени, но считаю несколько секунд несущественными в данном случае."
   ]
  }
 ],
 "metadata": {
  "kernelspec": {
   "display_name": "Python 3 (ipykernel)",
   "language": "python",
   "name": "python3"
  },
  "language_info": {
   "codemirror_mode": {
    "name": "ipython",
    "version": 3
   },
   "file_extension": ".py",
   "mimetype": "text/x-python",
   "name": "python",
   "nbconvert_exporter": "python",
   "pygments_lexer": "ipython3",
   "version": "3.9.12"
  }
 },
 "nbformat": 4,
 "nbformat_minor": 5
}
